{
 "cells": [
  {
   "attachments": {},
   "cell_type": "markdown",
   "id": "7aa9bc7b",
   "metadata": {
    "papermill": {
     "duration": 0.005109,
     "end_time": "2022-12-10T10:50:04.011041",
     "exception": false,
     "start_time": "2022-12-10T10:50:04.005932",
     "status": "completed"
    },
    "tags": []
   },
   "source": [
    "# Dependencies"
   ]
  },
  {
   "cell_type": "code",
   "execution_count": 1,
   "id": "bf614629",
   "metadata": {
    "execution": {
     "iopub.execute_input": "2022-12-10T10:50:04.021253Z",
     "iopub.status.busy": "2022-12-10T10:50:04.020447Z",
     "iopub.status.idle": "2022-12-10T10:50:51.379970Z",
     "shell.execute_reply": "2022-12-10T10:50:51.378449Z"
    },
    "papermill": {
     "duration": 47.367747,
     "end_time": "2022-12-10T10:50:51.382799",
     "exception": false,
     "start_time": "2022-12-10T10:50:04.015052",
     "status": "completed"
    },
    "tags": []
   },
   "outputs": [
    {
     "name": "stdout",
     "output_type": "stream",
     "text": [
      "Cloning into 'indic_nlp_resources'...\r\n",
      "remote: Enumerating objects: 139, done.\u001b[K\r\n",
      "remote: Counting objects: 100% (13/13), done.\u001b[K\r\n",
      "remote: Compressing objects: 100% (13/13), done.\u001b[K\r\n",
      "remote: Total 139 (delta 2), reused 2 (delta 0), pack-reused 126\u001b[K\r\n",
      "Receiving objects: 100% (139/139), 149.77 MiB | 35.87 MiB/s, done.\r\n",
      "Resolving deltas: 100% (53/53), done.\r\n",
      "Updating files: 100% (28/28), done.\r\n",
      "Collecting indic-nlp-library\r\n",
      "  Downloading indic_nlp_library-0.81-py3-none-any.whl (40 kB)\r\n",
      "\u001b[2K     \u001b[90m━━━━━━━━━━━━━━━━━━━━━━━━━━━━━━━━━━━━━━━━\u001b[0m \u001b[32m40.1/40.1 kB\u001b[0m \u001b[31m2.9 MB/s\u001b[0m eta \u001b[36m0:00:00\u001b[0m\r\n",
      "\u001b[?25hCollecting sphinx-argparse\r\n",
      "  Downloading sphinx_argparse-0.4.0-py3-none-any.whl (12 kB)\r\n",
      "Requirement already satisfied: numpy in /opt/conda/lib/python3.7/site-packages (from indic-nlp-library) (1.21.6)\r\n",
      "Collecting morfessor\r\n",
      "  Downloading Morfessor-2.0.6-py3-none-any.whl (35 kB)\r\n",
      "Requirement already satisfied: sphinx-rtd-theme in /opt/conda/lib/python3.7/site-packages (from indic-nlp-library) (0.2.4)\r\n",
      "Requirement already satisfied: pandas in /opt/conda/lib/python3.7/site-packages (from indic-nlp-library) (1.3.5)\r\n",
      "Requirement already satisfied: python-dateutil>=2.7.3 in /opt/conda/lib/python3.7/site-packages (from pandas->indic-nlp-library) (2.8.2)\r\n",
      "Requirement already satisfied: pytz>=2017.3 in /opt/conda/lib/python3.7/site-packages (from pandas->indic-nlp-library) (2022.1)\r\n",
      "Collecting sphinx>=1.2.0\r\n",
      "  Downloading sphinx-5.3.0-py3-none-any.whl (3.2 MB)\r\n",
      "\u001b[2K     \u001b[90m━━━━━━━━━━━━━━━━━━━━━━━━━━━━━━━━━━━━━━━━\u001b[0m \u001b[32m3.2/3.2 MB\u001b[0m \u001b[31m37.3 MB/s\u001b[0m eta \u001b[36m0:00:00\u001b[0m\r\n",
      "\u001b[?25hRequirement already satisfied: six>=1.5 in /opt/conda/lib/python3.7/site-packages (from python-dateutil>=2.7.3->pandas->indic-nlp-library) (1.15.0)\r\n",
      "Collecting sphinxcontrib-qthelp\r\n",
      "  Downloading sphinxcontrib_qthelp-1.0.3-py2.py3-none-any.whl (90 kB)\r\n",
      "\u001b[2K     \u001b[90m━━━━━━━━━━━━━━━━━━━━━━━━━━━━━━━━━━━━━━━━\u001b[0m \u001b[32m90.6/90.6 kB\u001b[0m \u001b[31m8.7 MB/s\u001b[0m eta \u001b[36m0:00:00\u001b[0m\r\n",
      "\u001b[?25hCollecting sphinxcontrib-jsmath\r\n",
      "  Downloading sphinxcontrib_jsmath-1.0.1-py2.py3-none-any.whl (5.1 kB)\r\n",
      "Collecting sphinxcontrib-devhelp\r\n",
      "  Downloading sphinxcontrib_devhelp-1.0.2-py2.py3-none-any.whl (84 kB)\r\n",
      "\u001b[2K     \u001b[90m━━━━━━━━━━━━━━━━━━━━━━━━━━━━━━━━━━━━━━━━\u001b[0m \u001b[32m84.7/84.7 kB\u001b[0m \u001b[31m9.2 MB/s\u001b[0m eta \u001b[36m0:00:00\u001b[0m\r\n",
      "\u001b[?25hCollecting sphinxcontrib-applehelp\r\n",
      "  Downloading sphinxcontrib_applehelp-1.0.2-py2.py3-none-any.whl (121 kB)\r\n",
      "\u001b[2K     \u001b[90m━━━━━━━━━━━━━━━━━━━━━━━━━━━━━━━━━━━━━━\u001b[0m \u001b[32m121.2/121.2 kB\u001b[0m \u001b[31m13.4 MB/s\u001b[0m eta \u001b[36m0:00:00\u001b[0m\r\n",
      "\u001b[?25hRequirement already satisfied: Pygments>=2.12 in /opt/conda/lib/python3.7/site-packages (from sphinx>=1.2.0->sphinx-argparse->indic-nlp-library) (2.12.0)\r\n",
      "Requirement already satisfied: docutils<0.20,>=0.14 in /opt/conda/lib/python3.7/site-packages (from sphinx>=1.2.0->sphinx-argparse->indic-nlp-library) (0.19)\r\n",
      "Requirement already satisfied: babel>=2.9 in /opt/conda/lib/python3.7/site-packages (from sphinx>=1.2.0->sphinx-argparse->indic-nlp-library) (2.10.3)\r\n",
      "Requirement already satisfied: requests>=2.5.0 in /opt/conda/lib/python3.7/site-packages (from sphinx>=1.2.0->sphinx-argparse->indic-nlp-library) (2.28.1)\r\n",
      "Requirement already satisfied: Jinja2>=3.0 in /opt/conda/lib/python3.7/site-packages (from sphinx>=1.2.0->sphinx-argparse->indic-nlp-library) (3.1.2)\r\n",
      "Requirement already satisfied: packaging>=21.0 in /opt/conda/lib/python3.7/site-packages (from sphinx>=1.2.0->sphinx-argparse->indic-nlp-library) (21.3)\r\n",
      "Collecting imagesize>=1.3\r\n",
      "  Downloading imagesize-1.4.1-py2.py3-none-any.whl (8.8 kB)\r\n",
      "Requirement already satisfied: importlib-metadata>=4.8 in /opt/conda/lib/python3.7/site-packages (from sphinx>=1.2.0->sphinx-argparse->indic-nlp-library) (4.13.0)\r\n",
      "Collecting sphinxcontrib-htmlhelp>=2.0.0\r\n",
      "  Downloading sphinxcontrib_htmlhelp-2.0.0-py2.py3-none-any.whl (100 kB)\r\n",
      "\u001b[2K     \u001b[90m━━━━━━━━━━━━━━━━━━━━━━━━━━━━━━━━━━━━━━\u001b[0m \u001b[32m100.5/100.5 kB\u001b[0m \u001b[31m10.5 MB/s\u001b[0m eta \u001b[36m0:00:00\u001b[0m\r\n",
      "\u001b[?25hRequirement already satisfied: snowballstemmer>=2.0 in /opt/conda/lib/python3.7/site-packages (from sphinx>=1.2.0->sphinx-argparse->indic-nlp-library) (2.2.0)\r\n",
      "Collecting sphinxcontrib-serializinghtml>=1.1.5\r\n",
      "  Downloading sphinxcontrib_serializinghtml-1.1.5-py2.py3-none-any.whl (94 kB)\r\n",
      "\u001b[2K     \u001b[90m━━━━━━━━━━━━━━━━━━━━━━━━━━━━━━━━━━━━━━━━\u001b[0m \u001b[32m94.0/94.0 kB\u001b[0m \u001b[31m9.6 MB/s\u001b[0m eta \u001b[36m0:00:00\u001b[0m\r\n",
      "\u001b[?25hCollecting alabaster<0.8,>=0.7\r\n",
      "  Downloading alabaster-0.7.12-py2.py3-none-any.whl (14 kB)\r\n",
      "Requirement already satisfied: zipp>=0.5 in /opt/conda/lib/python3.7/site-packages (from importlib-metadata>=4.8->sphinx>=1.2.0->sphinx-argparse->indic-nlp-library) (3.8.0)\r\n",
      "Requirement already satisfied: typing-extensions>=3.6.4 in /opt/conda/lib/python3.7/site-packages (from importlib-metadata>=4.8->sphinx>=1.2.0->sphinx-argparse->indic-nlp-library) (4.1.1)\r\n",
      "Requirement already satisfied: MarkupSafe>=2.0 in /opt/conda/lib/python3.7/site-packages (from Jinja2>=3.0->sphinx>=1.2.0->sphinx-argparse->indic-nlp-library) (2.1.1)\r\n",
      "Requirement already satisfied: pyparsing!=3.0.5,>=2.0.2 in /opt/conda/lib/python3.7/site-packages (from packaging>=21.0->sphinx>=1.2.0->sphinx-argparse->indic-nlp-library) (3.0.9)\r\n",
      "Requirement already satisfied: certifi>=2017.4.17 in /opt/conda/lib/python3.7/site-packages (from requests>=2.5.0->sphinx>=1.2.0->sphinx-argparse->indic-nlp-library) (2022.9.24)\r\n",
      "Requirement already satisfied: charset-normalizer<3,>=2 in /opt/conda/lib/python3.7/site-packages (from requests>=2.5.0->sphinx>=1.2.0->sphinx-argparse->indic-nlp-library) (2.1.0)\r\n",
      "Requirement already satisfied: idna<4,>=2.5 in /opt/conda/lib/python3.7/site-packages (from requests>=2.5.0->sphinx>=1.2.0->sphinx-argparse->indic-nlp-library) (3.3)\r\n",
      "Requirement already satisfied: urllib3<1.27,>=1.21.1 in /opt/conda/lib/python3.7/site-packages (from requests>=2.5.0->sphinx>=1.2.0->sphinx-argparse->indic-nlp-library) (1.26.12)\r\n",
      "Installing collected packages: morfessor, alabaster, sphinxcontrib-serializinghtml, sphinxcontrib-qthelp, sphinxcontrib-jsmath, sphinxcontrib-htmlhelp, sphinxcontrib-devhelp, sphinxcontrib-applehelp, imagesize, sphinx, sphinx-argparse, indic-nlp-library\r\n",
      "Successfully installed alabaster-0.7.12 imagesize-1.4.1 indic-nlp-library-0.81 morfessor-2.0.6 sphinx-5.3.0 sphinx-argparse-0.4.0 sphinxcontrib-applehelp-1.0.2 sphinxcontrib-devhelp-1.0.2 sphinxcontrib-htmlhelp-2.0.0 sphinxcontrib-jsmath-1.0.1 sphinxcontrib-qthelp-1.0.3 sphinxcontrib-serializinghtml-1.1.5\r\n",
      "\u001b[33mWARNING: Running pip as the 'root' user can result in broken permissions and conflicting behaviour with the system package manager. It is recommended to use a virtual environment instead: https://pip.pypa.io/warnings/venv\u001b[0m\u001b[33m\r\n",
      "\u001b[0mCollecting pytorch-pretrained-bert\r\n",
      "  Downloading pytorch_pretrained_bert-0.6.2-py3-none-any.whl (123 kB)\r\n",
      "\u001b[2K     \u001b[90m━━━━━━━━━━━━━━━━━━━━━━━━━━━━━━━━━━━━━━━\u001b[0m \u001b[32m123.8/123.8 kB\u001b[0m \u001b[31m3.2 MB/s\u001b[0m eta \u001b[36m0:00:00\u001b[0m\r\n",
      "\u001b[?25hRequirement already satisfied: tqdm in /opt/conda/lib/python3.7/site-packages (from pytorch-pretrained-bert) (4.64.0)\r\n",
      "Requirement already satisfied: requests in /opt/conda/lib/python3.7/site-packages (from pytorch-pretrained-bert) (2.28.1)\r\n",
      "Requirement already satisfied: boto3 in /opt/conda/lib/python3.7/site-packages (from pytorch-pretrained-bert) (1.24.93)\r\n",
      "Requirement already satisfied: torch>=0.4.1 in /opt/conda/lib/python3.7/site-packages (from pytorch-pretrained-bert) (1.11.0)\r\n",
      "Requirement already satisfied: numpy in /opt/conda/lib/python3.7/site-packages (from pytorch-pretrained-bert) (1.21.6)\r\n",
      "Requirement already satisfied: regex in /opt/conda/lib/python3.7/site-packages (from pytorch-pretrained-bert) (2021.11.10)\r\n",
      "Requirement already satisfied: typing-extensions in /opt/conda/lib/python3.7/site-packages (from torch>=0.4.1->pytorch-pretrained-bert) (4.1.1)\r\n",
      "Requirement already satisfied: s3transfer<0.7.0,>=0.6.0 in /opt/conda/lib/python3.7/site-packages (from boto3->pytorch-pretrained-bert) (0.6.0)\r\n",
      "Requirement already satisfied: jmespath<2.0.0,>=0.7.1 in /opt/conda/lib/python3.7/site-packages (from boto3->pytorch-pretrained-bert) (1.0.1)\r\n",
      "Requirement already satisfied: botocore<1.28.0,>=1.27.93 in /opt/conda/lib/python3.7/site-packages (from boto3->pytorch-pretrained-bert) (1.27.93)\r\n",
      "Requirement already satisfied: charset-normalizer<3,>=2 in /opt/conda/lib/python3.7/site-packages (from requests->pytorch-pretrained-bert) (2.1.0)\r\n",
      "Requirement already satisfied: certifi>=2017.4.17 in /opt/conda/lib/python3.7/site-packages (from requests->pytorch-pretrained-bert) (2022.9.24)\r\n",
      "Requirement already satisfied: idna<4,>=2.5 in /opt/conda/lib/python3.7/site-packages (from requests->pytorch-pretrained-bert) (3.3)\r\n",
      "Requirement already satisfied: urllib3<1.27,>=1.21.1 in /opt/conda/lib/python3.7/site-packages (from requests->pytorch-pretrained-bert) (1.26.12)\r\n",
      "Requirement already satisfied: python-dateutil<3.0.0,>=2.1 in /opt/conda/lib/python3.7/site-packages (from botocore<1.28.0,>=1.27.93->boto3->pytorch-pretrained-bert) (2.8.2)\r\n",
      "Requirement already satisfied: six>=1.5 in /opt/conda/lib/python3.7/site-packages (from python-dateutil<3.0.0,>=2.1->botocore<1.28.0,>=1.27.93->boto3->pytorch-pretrained-bert) (1.15.0)\r\n",
      "Installing collected packages: pytorch-pretrained-bert\r\n",
      "Successfully installed pytorch-pretrained-bert-0.6.2\r\n",
      "\u001b[33mWARNING: Running pip as the 'root' user can result in broken permissions and conflicting behaviour with the system package manager. It is recommended to use a virtual environment instead: https://pip.pypa.io/warnings/venv\u001b[0m\u001b[33m\r\n",
      "\u001b[0mCloning into 'banner'...\r\n",
      "remote: Enumerating objects: 26, done.\u001b[K\r\n",
      "remote: Counting objects: 100% (26/26), done.\u001b[K\r\n",
      "remote: Compressing objects: 100% (20/20), done.\u001b[K\r\n",
      "remote: Total 26 (delta 8), reused 18 (delta 3), pack-reused 0\u001b[K\r\n",
      "Unpacking objects: 100% (26/26), 94.31 KiB | 3.04 MiB/s, done.\r\n",
      "Cloning into 'NER-Bangla-Dataset'...\r\n",
      "remote: Enumerating objects: 24, done.\u001b[K\r\n",
      "remote: Counting objects: 100% (3/3), done.\u001b[K\r\n",
      "remote: Compressing objects: 100% (3/3), done.\u001b[K\r\n",
      "remote: Total 24 (delta 0), reused 0 (delta 0), pack-reused 21\u001b[K\r\n",
      "Unpacking objects: 100% (24/24), 5.16 MiB | 13.93 MiB/s, done.\r\n",
      "Archive:  NER-Bangla-Dataset/Bangla-NER-Splitted-Dataset.zip\r\n",
      "  inflating: dataset/Bangla-NER-Splitted-Dataset.json  \r\n"
     ]
    }
   ],
   "source": [
    "!git clone https://github.com/anoopkunchukuttan/indic_nlp_resources.git\n",
    "!pip install indic-nlp-library\n",
    "\n",
    "!pip install pytorch-pretrained-bert\n",
    "# git clone model\n",
    "!git clone https://github.com/imranulashrafi/banner.git\n",
    "# copy model to models\n",
    "!cp /kaggle/input/gpun-indic-banner-weights/models/18.pt banner/models/\n",
    "# download dataset\n",
    "!git clone https://github.com/MISabic/NER-Bangla-Dataset.git\n",
    "# unzip \n",
    "!unzip NER-Bangla-Dataset/Bangla-NER-Splitted-Dataset.zip -d dataset \n",
    "# move model to models\n",
    "!cp /kaggle/input/gpun-bnnorm-banner-weights/banner/models/banner_model.pt banner/models/banner_model.pt"
   ]
  },
  {
   "attachments": {},
   "cell_type": "markdown",
   "id": "7d607286",
   "metadata": {
    "papermill": {
     "duration": 0.007403,
     "end_time": "2022-12-10T10:50:51.398061",
     "exception": false,
     "start_time": "2022-12-10T10:50:51.390658",
     "status": "completed"
    },
    "tags": []
   },
   "source": [
    "# Dataset"
   ]
  },
  {
   "cell_type": "code",
   "execution_count": 2,
   "id": "1e0f4079",
   "metadata": {
    "execution": {
     "iopub.execute_input": "2022-12-10T10:50:51.416290Z",
     "iopub.status.busy": "2022-12-10T10:50:51.414752Z",
     "iopub.status.idle": "2022-12-10T10:50:55.704549Z",
     "shell.execute_reply": "2022-12-10T10:50:55.703537Z"
    },
    "papermill": {
     "duration": 4.301039,
     "end_time": "2022-12-10T10:50:55.707114",
     "exception": false,
     "start_time": "2022-12-10T10:50:51.406075",
     "status": "completed"
    },
    "tags": []
   },
   "outputs": [
    {
     "name": "stderr",
     "output_type": "stream",
     "text": [
      "100%|██████████| 995526/995526 [00:00<00:00, 8226819.49B/s]\n"
     ]
    }
   ],
   "source": [
    "#-------------------------\n",
    "# imports\n",
    "#-------------------------\n",
    "import sys\n",
    "sys.path.append(\"./banner\")\n",
    "import json\n",
    "import os\n",
    "import pandas as pd \n",
    "from tqdm import tqdm\n",
    "\n",
    "from sklearn.metrics import classification_report\n",
    "from net import Net\n",
    "from dataset import NerDataset, pad, VOCAB\n",
    "from trainer import eval\n",
    "import torch\n",
    "import numpy as np\n",
    "import random\n",
    "\n",
    "tqdm.pandas()\n",
    "\n",
    "# initialize\n",
    "INDIC_NLP_RESOURCES=\"/kaggle/working/indic_nlp_resources/\"\n",
    "from indicnlp import common\n",
    "common.set_resources_path(INDIC_NLP_RESOURCES)\n",
    "from indicnlp import loader\n",
    "loader.load()\n",
    "\n",
    "from indicnlp.normalize.indic_normalize import IndicNormalizerFactory\n",
    "factory=IndicNormalizerFactory()\n",
    "\n",
    "bnorm=factory.get_normalizer(\"bn\")\n",
    "#-------------------------\n",
    "# format raw test set\n",
    "#-------------------------\n",
    "with open(\"./dataset/Bangla-NER-Splitted-Dataset.json\",\"r\") as f:\n",
    "    dataset=json.load(f)\n",
    "\n"
   ]
  },
  {
   "cell_type": "code",
   "execution_count": 3,
   "id": "35214368",
   "metadata": {
    "execution": {
     "iopub.execute_input": "2022-12-10T10:50:55.725035Z",
     "iopub.status.busy": "2022-12-10T10:50:55.724734Z",
     "iopub.status.idle": "2022-12-10T10:50:55.740803Z",
     "shell.execute_reply": "2022-12-10T10:50:55.739914Z"
    },
    "papermill": {
     "duration": 0.027686,
     "end_time": "2022-12-10T10:50:55.742895",
     "exception": false,
     "start_time": "2022-12-10T10:50:55.715209",
     "status": "completed"
    },
    "tags": []
   },
   "outputs": [],
   "source": [
    "\n",
    "def infect(word, random_number = 75):\n",
    "    nukta_map              =   {'য়':'য়',\n",
    "                            'র':'ব়',\n",
    "                            'ড়':'ড়',\n",
    "                            'ঢ়':'ঢ়'}\n",
    "    diacritic_map           =   {'ো':'ো',\n",
    "                                'ৌ':'ৌ',\n",
    "                                'অা':'আ',\n",
    "                                'ৃ':'ৄ'}\n",
    "\n",
    "\n",
    "    vowel_diacritics       =   ['া', 'ি', 'ী', 'ু', 'ূ', 'ৃ', 'ে', 'ৈ', 'ো', 'ৌ']\n",
    "\n",
    "    non_gylph_unicodes     =   ['\\u0984', '\\u098d','\\u098e','\\u0991','\\u0992','\\u09a9','\\u09b1','\\u09b3','\\u09b4','\\u09b5',\n",
    "                                    '\\u09ba','\\u09bb', '\\u09c5','\\u09c6','\\u09c9','\\u09ca','\\u09cf','\\u09d0','\\u09d1','\\u09d2',\n",
    "                                    '\\u09d3','\\u09d4','\\u09d5','\\u09d6', '\\u09d8','\\u09d9','\\u09da','\\u09db','\\u09de', '\\u09e4',\n",
    "                                    '\\u09e5','\\u09ff']\n",
    "\n",
    "    vowels                 =   ['অ', 'আ', 'ই', 'ঈ', 'উ', 'ঊ', 'ঋ', 'এ', 'ঐ', 'ও', 'ঔ']\n",
    "\n",
    "    consonants             =   ['ক', 'খ', 'গ', 'ঘ', 'ঙ', 'চ', 'ছ','জ', 'ঝ', 'ঞ', 'ট', 'ঠ', 'ড', 'ঢ', 'ণ', 'ত', 'থ', 'দ', 'ধ', 'ন', \n",
    "                                    'প', 'ফ', 'ব', 'ভ', 'ম', 'য', 'র', 'ল', 'শ', 'ষ', 'স', 'হ','ড়', 'ঢ়', 'য়','ৎ']\n",
    "\n",
    "\n",
    "    connector              =   '্'\n",
    "    nukta                  =   '়'\n",
    "    original=\"\".join([c for c in word])\n",
    "    try:\n",
    "    \n",
    "        random_number = random_number % 5\n",
    "\n",
    "\n",
    "        part = [i for i in word]\n",
    "        new_word = []\n",
    "\n",
    "        if random.randint(0, 100) > 70:\n",
    "            index_connector = random.randint(1, len(word))\n",
    "            word = word[:index_connector] + non_gylph_unicodes[random.randint(0, len(non_gylph_unicodes))] + word[index_connector:]\n",
    "            index_connector = random.randint(1, len(word))\n",
    "            word = word[:index_connector] + connector + word[index_connector:]\n",
    "\n",
    "        for i in word:\n",
    "            if i in vowels:\n",
    "                if random.randint(0, 100) > 50:\n",
    "                    word = word.replace(i, i+vowel_diacritics[random.randint(0, len(vowel_diacritics))])\n",
    "\n",
    "        for i in part:\n",
    "            for k in list(nukta_map):\n",
    "                if i == k:\n",
    "                    word = word.replace(k, nukta_map[k])\n",
    "\n",
    "        for i in range(len(part)):\n",
    "            for k in list(diacritic_map):\n",
    "                if part[i] == k:\n",
    "                    d_part = [_ for _ in diacritic_map[k]]\n",
    "                    word = (\"\".join(part[:i]) + d_part[0] + d_part[1] + \"\".join(part[i+1:]))\n",
    "                    #word = \"\".join(part)\n",
    "\n",
    "        return word\n",
    "    except Exception as e:\n",
    "        return original\n"
   ]
  },
  {
   "cell_type": "code",
   "execution_count": 4,
   "id": "e16dccdc",
   "metadata": {
    "execution": {
     "iopub.execute_input": "2022-12-10T10:50:55.764149Z",
     "iopub.status.busy": "2022-12-10T10:50:55.763552Z",
     "iopub.status.idle": "2022-12-10T10:50:55.768752Z",
     "shell.execute_reply": "2022-12-10T10:50:55.767853Z"
    },
    "papermill": {
     "duration": 0.019934,
     "end_time": "2022-12-10T10:50:55.770714",
     "exception": false,
     "start_time": "2022-12-10T10:50:55.750780",
     "status": "completed"
    },
    "tags": []
   },
   "outputs": [],
   "source": [
    "def norm_sentence(sent):\n",
    "    words=[]\n",
    "    for word in sent:\n",
    "        word=bnorm.normalize(word)\n",
    "        word=word.replace(\" \",\"\")\n",
    "        words.append(word)\n",
    "    return words"
   ]
  },
  {
   "attachments": {},
   "cell_type": "markdown",
   "id": "240cc139",
   "metadata": {
    "papermill": {
     "duration": 0.008666,
     "end_time": "2022-12-10T10:50:55.787437",
     "exception": false,
     "start_time": "2022-12-10T10:50:55.778771",
     "status": "completed"
    },
    "tags": []
   },
   "source": [
    "* original --> df\n",
    "* normalized--> dfn\n",
    "* infected1-->df1\n",
    "* infected2-->df2\n",
    "* infected5-->df5\n",
    "* infected1 norm-->df1n\n",
    "* infected2 norm-->df2n\n",
    "* infected5 norm-->df5n\n"
   ]
  },
  {
   "cell_type": "code",
   "execution_count": 5,
   "id": "d5d3dbae",
   "metadata": {
    "execution": {
     "iopub.execute_input": "2022-12-10T10:50:55.804673Z",
     "iopub.status.busy": "2022-12-10T10:50:55.804399Z",
     "iopub.status.idle": "2022-12-10T10:51:03.750252Z",
     "shell.execute_reply": "2022-12-10T10:51:03.749073Z"
    },
    "papermill": {
     "duration": 7.956795,
     "end_time": "2022-12-10T10:51:03.752399",
     "exception": false,
     "start_time": "2022-12-10T10:50:55.795604",
     "status": "completed"
    },
    "tags": []
   },
   "outputs": [
    {
     "name": "stderr",
     "output_type": "stream",
     "text": [
      "100%|██████████| 3564/3564 [00:00<00:00, 8103.95it/s]\n",
      "100%|██████████| 3564/3564 [00:00<00:00, 5109.92it/s]\n",
      "100%|██████████| 3564/3564 [00:00<00:00, 4692.62it/s]\n",
      "100%|██████████| 3564/3564 [00:01<00:00, 3390.58it/s]\n",
      "100%|██████████| 3564/3564 [00:00<00:00, 4686.38it/s]\n",
      "100%|██████████| 3564/3564 [00:00<00:00, 4437.72it/s]\n",
      "100%|██████████| 3564/3564 [00:00<00:00, 3665.55it/s]\n",
      "100%|██████████| 3564/3564 [00:01<00:00, 3349.32it/s]\n",
      "100%|██████████| 3564/3564 [00:00<00:00, 8058.92it/s]\n",
      "100%|██████████| 3564/3564 [00:00<00:00, 8062.20it/s]\n",
      "100%|██████████| 3564/3564 [00:00<00:00, 8114.26it/s]\n"
     ]
    }
   ],
   "source": [
    "# original\n",
    "df=pd.DataFrame(dataset[\"test\"])\n",
    "# normalied\n",
    "dfn=df.copy() \n",
    "dfn.sentence=dfn.sentence.progress_apply(lambda x:norm_sentence(x))\n",
    "\n",
    "# infected-1\n",
    "df1=df.copy() \n",
    "df1.sentence=df1.sentence.progress_apply(lambda x:[infect(i) for i in x])\n",
    "\n",
    "# infected-2\n",
    "df2=df1.copy() \n",
    "df2.sentence=df2.sentence.progress_apply(lambda x:[infect(i) for i in x])\n",
    "# infected-5\n",
    "df5=df.copy()\n",
    "for i in range(5):\n",
    "    df5.sentence=df5.sentence.progress_apply(lambda x:[infect(i) for i in x])\n",
    "\n",
    "# infected-1-norm\n",
    "df1n=df1.copy() \n",
    "df1n.sentence=df1n.sentence.progress_apply(lambda x:norm_sentence(x))\n",
    "# infected-2-norm\n",
    "df2n=df2.copy() \n",
    "df2n.sentence=df2n.sentence.progress_apply(lambda x:norm_sentence(x))\n",
    "# infected-5-norm\n",
    "df5n=df5.copy() \n",
    "df5n.sentence=df5n.sentence.progress_apply(lambda x:norm_sentence(x))\n"
   ]
  },
  {
   "attachments": {},
   "cell_type": "markdown",
   "id": "9016b6d3",
   "metadata": {
    "papermill": {
     "duration": 0.012308,
     "end_time": "2022-12-10T10:51:03.777602",
     "exception": false,
     "start_time": "2022-12-10T10:51:03.765294",
     "status": "completed"
    },
    "tags": []
   },
   "source": [
    "# Load models"
   ]
  },
  {
   "cell_type": "code",
   "execution_count": 6,
   "id": "ac96951a",
   "metadata": {
    "execution": {
     "iopub.execute_input": "2022-12-10T10:51:03.806051Z",
     "iopub.status.busy": "2022-12-10T10:51:03.804524Z",
     "iopub.status.idle": "2022-12-10T10:51:42.245481Z",
     "shell.execute_reply": "2022-12-10T10:51:42.244504Z"
    },
    "papermill": {
     "duration": 38.457433,
     "end_time": "2022-12-10T10:51:42.248047",
     "exception": false,
     "start_time": "2022-12-10T10:51:03.790614",
     "status": "completed"
    },
    "tags": []
   },
   "outputs": [
    {
     "name": "stderr",
     "output_type": "stream",
     "text": [
      "100%|██████████| 662804195/662804195 [00:12<00:00, 53782081.23B/s]\n"
     ]
    }
   ],
   "source": [
    "# model\n",
    "device = 'cuda' if torch.cuda.is_available() else 'cpu'\n",
    "top_rnns=True\n",
    "model_s = Net(top_rnns, len(VOCAB), device, finetuning=True)\n",
    "model_b = Net(top_rnns, len(VOCAB), device, finetuning=True)\n",
    "\n",
    "model_s.load_state_dict(torch.load('banner/models/18.pt'))\n",
    "model_s=model_s.to(device)\n",
    "# zero - shot\n",
    "model_b.load_state_dict(torch.load('banner/models/banner_model.pt'))\n",
    "model_b=model_b.to(device)\n",
    "\n",
    "def run_ner_infer(sent,model):\n",
    "    tags = []\n",
    "    for x in range(len(sent.split())):\n",
    "        tags.append('O')\n",
    "    sent_infer=[]\n",
    "    sent_infer.append([\"[CLS]\"] + sent.split() + [\"[SEP]\"])\n",
    "    tags_infer=[]\n",
    "    tags_infer.append([\"<PAD>\"] + tags + [\"<PAD>\"])\n",
    "\n",
    "    infer_data = NerDataset(sent_infer, tags_infer)\n",
    "\n",
    "    infer_iter = torch.utils.data.DataLoader(dataset=infer_data,\n",
    "                             batch_size=1,\n",
    "                             shuffle=False,\n",
    "                             collate_fn = pad,\n",
    "                             num_workers=0\n",
    "                             )\n",
    "    pred = eval(model, infer_iter)\n",
    "    for x in range(len(pred[0])):\n",
    "        if pred[0][x] == '<PAD>':\n",
    "            pred[0][x] = 'O'\n",
    "    return pred[0][1:-1]"
   ]
  },
  {
   "cell_type": "code",
   "execution_count": 7,
   "id": "10cafb25",
   "metadata": {
    "execution": {
     "iopub.execute_input": "2022-12-10T10:51:42.287152Z",
     "iopub.status.busy": "2022-12-10T10:51:42.286832Z",
     "iopub.status.idle": "2022-12-10T10:51:42.293978Z",
     "shell.execute_reply": "2022-12-10T10:51:42.292953Z"
    },
    "papermill": {
     "duration": 0.029072,
     "end_time": "2022-12-10T10:51:42.296038",
     "exception": false,
     "start_time": "2022-12-10T10:51:42.266966",
     "status": "completed"
    },
    "tags": []
   },
   "outputs": [],
   "source": [
    "def eval_data(df):\n",
    "    preds=[]\n",
    "    gts=[]\n",
    "    for idx in tqdm(range(len(df))):\n",
    "        pred=df.iloc[idx,-1]\n",
    "        gt=df.iloc[idx,-2]\n",
    "        preds+=pred\n",
    "        gts+=gt\n",
    "    eval_predictions(preds,gts)\n",
    "\n",
    "def eval_predictions(pred,gt):\n",
    "    pred=[VOCAB.index(p) for p in tqdm(pred)]\n",
    "    gt=[VOCAB.index(p) for p in tqdm(gt)]\n",
    "    report = classification_report(np.array(gt),np.array(pred), labels = [1,2,3,4,5,6,7,8,9], digits=4, zero_division=0)\n",
    "    print(report)    \n",
    "\n"
   ]
  },
  {
   "cell_type": "code",
   "execution_count": 8,
   "id": "6791c799",
   "metadata": {
    "execution": {
     "iopub.execute_input": "2022-12-10T10:51:42.333987Z",
     "iopub.status.busy": "2022-12-10T10:51:42.333202Z",
     "iopub.status.idle": "2022-12-10T10:51:42.338512Z",
     "shell.execute_reply": "2022-12-10T10:51:42.337526Z"
    },
    "papermill": {
     "duration": 0.026296,
     "end_time": "2022-12-10T10:51:42.340544",
     "exception": false,
     "start_time": "2022-12-10T10:51:42.314248",
     "status": "completed"
    },
    "tags": []
   },
   "outputs": [],
   "source": [
    "def get_stat(model,df):\n",
    "    df[\"predicted_tags\"]=df.sentence.progress_apply(lambda x:run_ner_infer(\" \".join(x),model))\n",
    "    eval_data(df)"
   ]
  },
  {
   "attachments": {},
   "cell_type": "markdown",
   "id": "5d700f12",
   "metadata": {
    "papermill": {
     "duration": 0.017987,
     "end_time": "2022-12-10T10:51:42.376683",
     "exception": false,
     "start_time": "2022-12-10T10:51:42.358696",
     "status": "completed"
    },
    "tags": []
   },
   "source": [
    "# Exp-1: Original"
   ]
  },
  {
   "cell_type": "code",
   "execution_count": 9,
   "id": "401489bc",
   "metadata": {
    "execution": {
     "iopub.execute_input": "2022-12-10T10:51:42.414696Z",
     "iopub.status.busy": "2022-12-10T10:51:42.413890Z",
     "iopub.status.idle": "2022-12-10T10:54:00.672874Z",
     "shell.execute_reply": "2022-12-10T10:54:00.671705Z"
    },
    "papermill": {
     "duration": 138.279982,
     "end_time": "2022-12-10T10:54:00.674967",
     "exception": false,
     "start_time": "2022-12-10T10:51:42.394985",
     "status": "completed"
    },
    "tags": []
   },
   "outputs": [
    {
     "name": "stdout",
     "output_type": "stream",
     "text": [
      "banner - original\n",
      "-------------------------------------\n"
     ]
    },
    {
     "name": "stderr",
     "output_type": "stream",
     "text": [
      "100%|██████████| 3564/3564 [01:09<00:00, 51.06it/s]\n",
      "100%|██████████| 3564/3564 [00:00<00:00, 19329.34it/s]\n",
      "100%|██████████| 49118/49118 [00:00<00:00, 2015258.28it/s]\n",
      "100%|██████████| 49118/49118 [00:00<00:00, 1963139.87it/s]\n"
     ]
    },
    {
     "name": "stdout",
     "output_type": "stream",
     "text": [
      "              precision    recall  f1-score   support\n",
      "\n",
      "           1     0.6973    0.6583    0.6772       357\n",
      "           2     0.5186    0.5569    0.5370       853\n",
      "           3     0.9559    0.9463    0.9511     39499\n",
      "           4     0.3778    0.2982    0.3333        57\n",
      "           5     0.7919    0.7874    0.7897      1223\n",
      "           6     0.4578    0.4921    0.4743       573\n",
      "           7     0.5152    0.6589    0.5782       516\n",
      "           8     0.7879    0.7706    0.7791      2005\n",
      "           9     0.7616    0.8045    0.7825      4035\n",
      "\n",
      "    accuracy                         0.9056     49118\n",
      "   macro avg     0.6515    0.6637    0.6558     49118\n",
      "weighted avg     0.9084    0.9056    0.9068     49118\n",
      "\n",
      "scratch - original\n",
      "-------------------------------------\n"
     ]
    },
    {
     "name": "stderr",
     "output_type": "stream",
     "text": [
      "100%|██████████| 3564/3564 [01:07<00:00, 52.54it/s]\n",
      "100%|██████████| 3564/3564 [00:00<00:00, 19403.03it/s]\n",
      "100%|██████████| 49118/49118 [00:00<00:00, 2129846.83it/s]\n",
      "100%|██████████| 49118/49118 [00:00<00:00, 1992608.80it/s]"
     ]
    },
    {
     "name": "stdout",
     "output_type": "stream",
     "text": [
      "              precision    recall  f1-score   support\n",
      "\n",
      "           1     0.7128    0.5770    0.6378       357\n",
      "           2     0.5456    0.4842    0.5130       853\n",
      "           3     0.9468    0.9517    0.9493     39499\n",
      "           4     0.3333    0.2632    0.2941        57\n",
      "           5     0.7677    0.7539    0.7607      1223\n",
      "           6     0.4640    0.4607    0.4623       573\n",
      "           7     0.5975    0.4690    0.5255       516\n",
      "           8     0.7879    0.7392    0.7627      2005\n",
      "           9     0.7535    0.7968    0.7745      4035\n",
      "\n",
      "    accuracy                         0.9030     49118\n",
      "   macro avg     0.6566    0.6106    0.6311     49118\n",
      "weighted avg     0.9013    0.9030    0.9019     49118\n",
      "\n"
     ]
    },
    {
     "name": "stderr",
     "output_type": "stream",
     "text": [
      "\n"
     ]
    }
   ],
   "source": [
    "print(\"banner - original\")\n",
    "print(\"-------------------------------------\")\n",
    "get_stat(model_b,df)\n",
    "print(\"scratch - original\")\n",
    "print(\"-------------------------------------\")\n",
    "get_stat(model_s,df)"
   ]
  },
  {
   "attachments": {},
   "cell_type": "markdown",
   "id": "cfe7e535",
   "metadata": {
    "papermill": {
     "duration": 0.078996,
     "end_time": "2022-12-10T10:54:00.832618",
     "exception": false,
     "start_time": "2022-12-10T10:54:00.753622",
     "status": "completed"
    },
    "tags": []
   },
   "source": [
    "# Exp-2 Normalized"
   ]
  },
  {
   "cell_type": "code",
   "execution_count": 10,
   "id": "c7529284",
   "metadata": {
    "execution": {
     "iopub.execute_input": "2022-12-10T10:54:00.992746Z",
     "iopub.status.busy": "2022-12-10T10:54:00.991927Z",
     "iopub.status.idle": "2022-12-10T10:56:19.553213Z",
     "shell.execute_reply": "2022-12-10T10:56:19.551804Z"
    },
    "papermill": {
     "duration": 138.641628,
     "end_time": "2022-12-10T10:56:19.555538",
     "exception": false,
     "start_time": "2022-12-10T10:54:00.913910",
     "status": "completed"
    },
    "tags": []
   },
   "outputs": [
    {
     "name": "stdout",
     "output_type": "stream",
     "text": [
      "banner - normalized\n",
      "-------------------------------------\n"
     ]
    },
    {
     "name": "stderr",
     "output_type": "stream",
     "text": [
      "100%|██████████| 3564/3564 [01:08<00:00, 51.76it/s]\n",
      "100%|██████████| 3564/3564 [00:00<00:00, 19253.16it/s]\n",
      "100%|██████████| 49118/49118 [00:00<00:00, 2017290.81it/s]\n",
      "100%|██████████| 49118/49118 [00:00<00:00, 1943985.66it/s]\n"
     ]
    },
    {
     "name": "stdout",
     "output_type": "stream",
     "text": [
      "              precision    recall  f1-score   support\n",
      "\n",
      "           1     0.6469    0.6723    0.6593       357\n",
      "           2     0.5344    0.5557    0.5448       853\n",
      "           3     0.9564    0.9491    0.9528     39499\n",
      "           4     0.3000    0.2632    0.2804        57\n",
      "           5     0.7993    0.7882    0.7937      1223\n",
      "           6     0.4724    0.4625    0.4674       573\n",
      "           7     0.5338    0.6589    0.5898       516\n",
      "           8     0.7874    0.8015    0.7944      2005\n",
      "           9     0.7713    0.7965    0.7837      4035\n",
      "\n",
      "    accuracy                         0.9082     49118\n",
      "   macro avg     0.6446    0.6609    0.6518     49118\n",
      "weighted avg     0.9100    0.9082    0.9090     49118\n",
      "\n",
      "scratch - normalized\n",
      "-------------------------------------\n"
     ]
    },
    {
     "name": "stderr",
     "output_type": "stream",
     "text": [
      "100%|██████████| 3564/3564 [01:09<00:00, 51.59it/s]\n",
      "100%|██████████| 3564/3564 [00:00<00:00, 19056.75it/s]\n",
      "100%|██████████| 49118/49118 [00:00<00:00, 2055041.19it/s]\n",
      "100%|██████████| 49118/49118 [00:00<00:00, 2014588.25it/s]"
     ]
    },
    {
     "name": "stdout",
     "output_type": "stream",
     "text": [
      "              precision    recall  f1-score   support\n",
      "\n",
      "           1     0.6993    0.5994    0.6456       357\n",
      "           2     0.5726    0.5498    0.5610       853\n",
      "           3     0.9574    0.9499    0.9536     39499\n",
      "           4     0.4000    0.2456    0.3043        57\n",
      "           5     0.7946    0.7939    0.7943      1223\n",
      "           6     0.4819    0.5113    0.4962       573\n",
      "           7     0.6026    0.5465    0.5732       516\n",
      "           8     0.7932    0.8075    0.8003      2005\n",
      "           9     0.7583    0.8327    0.7938      4035\n",
      "\n",
      "    accuracy                         0.9109     49118\n",
      "   macro avg     0.6733    0.6485    0.6580     49118\n",
      "weighted avg     0.9118    0.9109    0.9111     49118\n",
      "\n"
     ]
    },
    {
     "name": "stderr",
     "output_type": "stream",
     "text": [
      "\n"
     ]
    }
   ],
   "source": [
    "print(\"banner - normalized\")\n",
    "print(\"-------------------------------------\")\n",
    "get_stat(model_b,dfn)\n",
    "print(\"scratch - normalized\")\n",
    "print(\"-------------------------------------\")\n",
    "get_stat(model_s,dfn)"
   ]
  },
  {
   "attachments": {},
   "cell_type": "markdown",
   "id": "c20887d1",
   "metadata": {
    "papermill": {
     "duration": 0.138414,
     "end_time": "2022-12-10T10:56:19.838595",
     "exception": false,
     "start_time": "2022-12-10T10:56:19.700181",
     "status": "completed"
    },
    "tags": []
   },
   "source": [
    "# Exp-3 Unnorm-1"
   ]
  },
  {
   "cell_type": "code",
   "execution_count": 11,
   "id": "5e2d5ee4",
   "metadata": {
    "execution": {
     "iopub.execute_input": "2022-12-10T10:56:20.280936Z",
     "iopub.status.busy": "2022-12-10T10:56:20.280400Z",
     "iopub.status.idle": "2022-12-10T11:00:25.182289Z",
     "shell.execute_reply": "2022-12-10T11:00:25.181160Z"
    },
    "papermill": {
     "duration": 245.206327,
     "end_time": "2022-12-10T11:00:25.184385",
     "exception": false,
     "start_time": "2022-12-10T10:56:19.978058",
     "status": "completed"
    },
    "tags": []
   },
   "outputs": [
    {
     "name": "stdout",
     "output_type": "stream",
     "text": [
      "banner - un-normalized-1\n",
      "-------------------------------------\n"
     ]
    },
    {
     "name": "stderr",
     "output_type": "stream",
     "text": [
      "100%|██████████| 3564/3564 [01:21<00:00, 43.87it/s]\n",
      "100%|██████████| 3564/3564 [00:00<00:00, 18989.48it/s]\n",
      "100%|██████████| 49118/49118 [00:00<00:00, 2036534.44it/s]\n",
      "100%|██████████| 49118/49118 [00:00<00:00, 2092444.66it/s]\n"
     ]
    },
    {
     "name": "stdout",
     "output_type": "stream",
     "text": [
      "              precision    recall  f1-score   support\n",
      "\n",
      "           1     0.4815    0.1092    0.1781       357\n",
      "           2     0.5065    0.2743    0.3559       853\n",
      "           3     0.8813    0.9630    0.9203     39499\n",
      "           4     0.2857    0.0351    0.0625        57\n",
      "           5     0.6339    0.4955    0.5562      1223\n",
      "           6     0.4096    0.1187    0.1840       573\n",
      "           7     0.5140    0.3547    0.4197       516\n",
      "           8     0.6603    0.3781    0.4808      2005\n",
      "           9     0.6343    0.4372    0.5176      4035\n",
      "\n",
      "    accuracy                         0.8488     49118\n",
      "   macro avg     0.5563    0.3517    0.4084     49118\n",
      "weighted avg     0.8263    0.8488    0.8302     49118\n",
      "\n",
      "scratch - un-normalized-1\n",
      "-------------------------------------\n"
     ]
    },
    {
     "name": "stderr",
     "output_type": "stream",
     "text": [
      "100%|██████████| 3564/3564 [01:20<00:00, 44.24it/s]\n",
      "100%|██████████| 3564/3564 [00:00<00:00, 19324.64it/s]\n",
      "100%|██████████| 49118/49118 [00:00<00:00, 2042875.51it/s]\n",
      "100%|██████████| 49118/49118 [00:00<00:00, 2018812.95it/s]\n"
     ]
    },
    {
     "name": "stdout",
     "output_type": "stream",
     "text": [
      "              precision    recall  f1-score   support\n",
      "\n",
      "           1     0.5412    0.1289    0.2081       357\n",
      "           2     0.5159    0.3036    0.3823       853\n",
      "           3     0.8775    0.9692    0.9210     39499\n",
      "           4     0.8000    0.0702    0.1290        57\n",
      "           5     0.6749    0.5127    0.5827      1223\n",
      "           6     0.3923    0.1431    0.2097       573\n",
      "           7     0.5727    0.2442    0.3424       516\n",
      "           8     0.7069    0.3392    0.4584      2005\n",
      "           9     0.7075    0.4520    0.5516      4035\n",
      "\n",
      "    accuracy                         0.8537     49118\n",
      "   macro avg     0.6432    0.3514    0.4206     49118\n",
      "weighted avg     0.8338    0.8537    0.8336     49118\n",
      "\n",
      "scratch - normalized-1\n",
      "-------------------------------------\n"
     ]
    },
    {
     "name": "stderr",
     "output_type": "stream",
     "text": [
      "100%|██████████| 3564/3564 [01:22<00:00, 43.37it/s]\n",
      "100%|██████████| 3564/3564 [00:00<00:00, 18672.79it/s]\n",
      "100%|██████████| 49118/49118 [00:00<00:00, 1967395.54it/s]\n",
      "100%|██████████| 49118/49118 [00:00<00:00, 1987878.96it/s]\n"
     ]
    },
    {
     "name": "stdout",
     "output_type": "stream",
     "text": [
      "              precision    recall  f1-score   support\n",
      "\n",
      "           1     0.6163    0.1485    0.2393       357\n",
      "           2     0.5191    0.3341    0.4066       853\n",
      "           3     0.8843    0.9683    0.9244     39499\n",
      "           4     0.6000    0.1053    0.1791        57\n",
      "           5     0.6779    0.5593    0.6129      1223\n",
      "           6     0.4903    0.2216    0.3053       573\n",
      "           7     0.5579    0.2616    0.3562       516\n",
      "           8     0.7201    0.3696    0.4885      2005\n",
      "           9     0.7159    0.4766    0.5722      4035\n",
      "\n",
      "    accuracy                         0.8592     49118\n",
      "   macro avg     0.6424    0.3828    0.4538     49118\n",
      "weighted avg     0.8420    0.8592    0.8419     49118\n",
      "\n"
     ]
    }
   ],
   "source": [
    "print(\"banner - un-normalized-1\")\n",
    "print(\"-------------------------------------\")\n",
    "get_stat(model_b,df1)\n",
    "print(\"scratch - un-normalized-1\")\n",
    "print(\"-------------------------------------\")\n",
    "get_stat(model_s,df1)\n",
    "print(\"scratch - normalized-1\")\n",
    "print(\"-------------------------------------\")\n",
    "get_stat(model_s,df1n)"
   ]
  },
  {
   "attachments": {},
   "cell_type": "markdown",
   "id": "2fef22d8",
   "metadata": {
    "papermill": {
     "duration": 0.24722,
     "end_time": "2022-12-10T11:00:25.684564",
     "exception": false,
     "start_time": "2022-12-10T11:00:25.437344",
     "status": "completed"
    },
    "tags": []
   },
   "source": [
    "# Exp-4 Unnorm-2"
   ]
  },
  {
   "cell_type": "code",
   "execution_count": 12,
   "id": "6f5253ee",
   "metadata": {
    "execution": {
     "iopub.execute_input": "2022-12-10T11:00:26.225533Z",
     "iopub.status.busy": "2022-12-10T11:00:26.225164Z",
     "iopub.status.idle": "2022-12-10T11:04:42.493903Z",
     "shell.execute_reply": "2022-12-10T11:04:42.492886Z"
    },
    "papermill": {
     "duration": 256.565974,
     "end_time": "2022-12-10T11:04:42.495960",
     "exception": false,
     "start_time": "2022-12-10T11:00:25.929986",
     "status": "completed"
    },
    "tags": []
   },
   "outputs": [
    {
     "name": "stdout",
     "output_type": "stream",
     "text": [
      "banner - un-normalized-2\n",
      "-------------------------------------\n"
     ]
    },
    {
     "name": "stderr",
     "output_type": "stream",
     "text": [
      "100%|██████████| 3564/3564 [01:25<00:00, 41.87it/s]\n",
      "100%|██████████| 3564/3564 [00:00<00:00, 19226.56it/s]\n",
      "100%|██████████| 49118/49118 [00:00<00:00, 2042207.24it/s]\n",
      "100%|██████████| 49118/49118 [00:00<00:00, 2054057.69it/s]\n"
     ]
    },
    {
     "name": "stdout",
     "output_type": "stream",
     "text": [
      "              precision    recall  f1-score   support\n",
      "\n",
      "           1     0.4211    0.0672    0.1159       357\n",
      "           2     0.4986    0.2098    0.2954       853\n",
      "           3     0.8646    0.9677    0.9133     39499\n",
      "           4     0.3750    0.0526    0.0923        57\n",
      "           5     0.6245    0.3876    0.4783      1223\n",
      "           6     0.4196    0.0820    0.1372       573\n",
      "           7     0.5243    0.3140    0.3927       516\n",
      "           8     0.6254    0.2873    0.3937      2005\n",
      "           9     0.6018    0.3554    0.4469      4035\n",
      "\n",
      "    accuracy                         0.8372     49118\n",
      "   macro avg     0.5505    0.3026    0.3629     49118\n",
      "weighted avg     0.8084    0.8372    0.8109     49118\n",
      "\n",
      "scratch - un-normalized-2\n",
      "-------------------------------------\n"
     ]
    },
    {
     "name": "stderr",
     "output_type": "stream",
     "text": [
      "100%|██████████| 3564/3564 [01:24<00:00, 42.21it/s]\n",
      "100%|██████████| 3564/3564 [00:00<00:00, 19220.58it/s]\n",
      "100%|██████████| 49118/49118 [00:00<00:00, 2090958.05it/s]\n",
      "100%|██████████| 49118/49118 [00:00<00:00, 2028713.18it/s]\n"
     ]
    },
    {
     "name": "stdout",
     "output_type": "stream",
     "text": [
      "              precision    recall  f1-score   support\n",
      "\n",
      "           1     0.5526    0.0588    0.1063       357\n",
      "           2     0.4973    0.2181    0.3032       853\n",
      "           3     0.8577    0.9776    0.9137     39499\n",
      "           4     0.8000    0.0702    0.1290        57\n",
      "           5     0.6536    0.3827    0.4827      1223\n",
      "           6     0.4806    0.1082    0.1766       573\n",
      "           7     0.6074    0.1919    0.2916       516\n",
      "           8     0.7120    0.2429    0.3622      2005\n",
      "           9     0.6948    0.3425    0.4588      4035\n",
      "\n",
      "    accuracy                         0.8413     49118\n",
      "   macro avg     0.6507    0.2881    0.3583     49118\n",
      "weighted avg     0.8177    0.8413    0.8106     49118\n",
      "\n",
      "scratch - normalized-2\n",
      "-------------------------------------\n"
     ]
    },
    {
     "name": "stderr",
     "output_type": "stream",
     "text": [
      "100%|██████████| 3564/3564 [01:25<00:00, 41.54it/s]\n",
      "100%|██████████| 3564/3564 [00:00<00:00, 19206.36it/s]\n",
      "100%|██████████| 49118/49118 [00:00<00:00, 2137270.98it/s]\n",
      "100%|██████████| 49118/49118 [00:00<00:00, 2052809.18it/s]"
     ]
    },
    {
     "name": "stdout",
     "output_type": "stream",
     "text": [
      "              precision    recall  f1-score   support\n",
      "\n",
      "           1     0.5000    0.0616    0.1097       357\n",
      "           2     0.5117    0.2309    0.3183       853\n",
      "           3     0.8594    0.9778    0.9148     39499\n",
      "           4     0.8571    0.1053    0.1875        57\n",
      "           5     0.6739    0.4039    0.5051      1223\n",
      "           6     0.5409    0.1501    0.2350       573\n",
      "           7     0.6164    0.1899    0.2904       516\n",
      "           8     0.7181    0.2554    0.3767      2005\n",
      "           9     0.7027    0.3445    0.4623      4035\n",
      "\n",
      "    accuracy                         0.8434     49118\n",
      "   macro avg     0.6645    0.3022    0.3778     49118\n",
      "weighted avg     0.8212    0.8434    0.8139     49118\n",
      "\n"
     ]
    },
    {
     "name": "stderr",
     "output_type": "stream",
     "text": [
      "\n"
     ]
    }
   ],
   "source": [
    "print(\"banner - un-normalized-2\")\n",
    "print(\"-------------------------------------\")\n",
    "get_stat(model_b,df2)\n",
    "print(\"scratch - un-normalized-2\")\n",
    "print(\"-------------------------------------\")\n",
    "get_stat(model_s,df2)\n",
    "print(\"scratch - normalized-2\")\n",
    "print(\"-------------------------------------\")\n",
    "get_stat(model_s,df2n)"
   ]
  },
  {
   "attachments": {},
   "cell_type": "markdown",
   "id": "70e82ae4",
   "metadata": {
    "papermill": {
     "duration": 0.352088,
     "end_time": "2022-12-10T11:04:43.251501",
     "exception": false,
     "start_time": "2022-12-10T11:04:42.899413",
     "status": "completed"
    },
    "tags": []
   },
   "source": [
    "# Exp-5 Unnorm 5"
   ]
  },
  {
   "cell_type": "code",
   "execution_count": 13,
   "id": "e3f7e3b1",
   "metadata": {
    "execution": {
     "iopub.execute_input": "2022-12-10T11:04:43.999108Z",
     "iopub.status.busy": "2022-12-10T11:04:43.998137Z",
     "iopub.status.idle": "2022-12-10T11:09:30.270273Z",
     "shell.execute_reply": "2022-12-10T11:09:30.268578Z"
    },
    "papermill": {
     "duration": 286.670731,
     "end_time": "2022-12-10T11:09:30.272901",
     "exception": false,
     "start_time": "2022-12-10T11:04:43.602170",
     "status": "completed"
    },
    "tags": []
   },
   "outputs": [
    {
     "name": "stdout",
     "output_type": "stream",
     "text": [
      "banner - un-normalized-5\n",
      "-------------------------------------\n"
     ]
    },
    {
     "name": "stderr",
     "output_type": "stream",
     "text": [
      "100%|██████████| 3564/3564 [01:34<00:00, 37.56it/s]\n",
      "100%|██████████| 3564/3564 [00:00<00:00, 19248.10it/s]\n",
      "100%|██████████| 49118/49118 [00:00<00:00, 2164418.27it/s]\n",
      "100%|██████████| 49118/49118 [00:00<00:00, 2124684.92it/s]\n"
     ]
    },
    {
     "name": "stdout",
     "output_type": "stream",
     "text": [
      "              precision    recall  f1-score   support\n",
      "\n",
      "           1     0.5385    0.0196    0.0378       357\n",
      "           2     0.4208    0.0996    0.1611       853\n",
      "           3     0.8304    0.9836    0.9005     39499\n",
      "           4     0.0000    0.0000    0.0000        57\n",
      "           5     0.6167    0.1447    0.2344      1223\n",
      "           6     0.3962    0.0366    0.0671       573\n",
      "           7     0.4242    0.1085    0.1728       516\n",
      "           8     0.5856    0.1382    0.2236      2005\n",
      "           9     0.5653    0.1641    0.2543      4035\n",
      "\n",
      "    accuracy                         0.8171     49118\n",
      "   macro avg     0.4864    0.1883    0.2280     49118\n",
      "weighted avg     0.7738    0.8171    0.7657     49118\n",
      "\n",
      "scratch - un-normalized-5\n",
      "-------------------------------------\n"
     ]
    },
    {
     "name": "stderr",
     "output_type": "stream",
     "text": [
      "100%|██████████| 3564/3564 [01:34<00:00, 37.79it/s]\n",
      "100%|██████████| 3564/3564 [00:00<00:00, 15920.39it/s]\n",
      "100%|██████████| 49118/49118 [00:00<00:00, 2054180.57it/s]\n",
      "100%|██████████| 49118/49118 [00:00<00:00, 1961457.69it/s]\n"
     ]
    },
    {
     "name": "stdout",
     "output_type": "stream",
     "text": [
      "              precision    recall  f1-score   support\n",
      "\n",
      "           1     0.4545    0.0140    0.0272       357\n",
      "           2     0.5746    0.0903    0.1560       853\n",
      "           3     0.8204    0.9937    0.8987     39499\n",
      "           4     0.0000    0.0000    0.0000        57\n",
      "           5     0.6626    0.1316    0.2196      1223\n",
      "           6     0.5000    0.0244    0.0466       573\n",
      "           7     0.7059    0.0465    0.0873       516\n",
      "           8     0.7772    0.0713    0.1307      2005\n",
      "           9     0.6875    0.1090    0.1882      4035\n",
      "\n",
      "    accuracy                         0.8167     49118\n",
      "   macro avg     0.5758    0.1645    0.1949     49118\n",
      "weighted avg     0.7909    0.8167    0.7534     49118\n",
      "\n",
      "scratch - normalized-5\n",
      "-------------------------------------\n"
     ]
    },
    {
     "name": "stderr",
     "output_type": "stream",
     "text": [
      "100%|██████████| 3564/3564 [01:36<00:00, 37.08it/s]\n",
      "100%|██████████| 3564/3564 [00:00<00:00, 19175.36it/s]\n",
      "100%|██████████| 49118/49118 [00:00<00:00, 2048033.88it/s]\n",
      "100%|██████████| 49118/49118 [00:00<00:00, 1991337.61it/s]"
     ]
    },
    {
     "name": "stdout",
     "output_type": "stream",
     "text": [
      "              precision    recall  f1-score   support\n",
      "\n",
      "           1     0.0000    0.0000    0.0000       357\n",
      "           2     0.5678    0.0785    0.1380       853\n",
      "           3     0.8191    0.9948    0.8984     39499\n",
      "           4     0.0000    0.0000    0.0000        57\n",
      "           5     0.7265    0.1325    0.2241      1223\n",
      "           6     0.4333    0.0227    0.0431       573\n",
      "           7     0.6800    0.0329    0.0628       516\n",
      "           8     0.7833    0.0703    0.1291      2005\n",
      "           9     0.7258    0.1024    0.1794      4035\n",
      "\n",
      "    accuracy                         0.8165     49118\n",
      "   macro avg     0.5262    0.1593    0.1861     49118\n",
      "weighted avg     0.7905    0.8165    0.7516     49118\n",
      "\n"
     ]
    },
    {
     "name": "stderr",
     "output_type": "stream",
     "text": [
      "\n"
     ]
    }
   ],
   "source": [
    "print(\"banner - un-normalized-5\")\n",
    "print(\"-------------------------------------\")\n",
    "get_stat(model_b,df5)\n",
    "print(\"scratch - un-normalized-5\")\n",
    "print(\"-------------------------------------\")\n",
    "get_stat(model_s,df5)\n",
    "print(\"scratch - normalized-5\")\n",
    "print(\"-------------------------------------\")\n",
    "get_stat(model_s,df5n)"
   ]
  }
 ],
 "metadata": {
  "kernelspec": {
   "display_name": "Python 3",
   "language": "python",
   "name": "python3"
  },
  "language_info": {
   "codemirror_mode": {
    "name": "ipython",
    "version": 3
   },
   "file_extension": ".py",
   "mimetype": "text/x-python",
   "name": "python",
   "nbconvert_exporter": "python",
   "pygments_lexer": "ipython3",
   "version": "3.7.12"
  },
  "papermill": {
   "default_parameters": {},
   "duration": 1176.973131,
   "end_time": "2022-12-10T11:09:33.430449",
   "environment_variables": {},
   "exception": null,
   "input_path": "__notebook__.ipynb",
   "output_path": "__notebook__.ipynb",
   "parameters": {},
   "start_time": "2022-12-10T10:49:56.457318",
   "version": "2.3.4"
  }
 },
 "nbformat": 4,
 "nbformat_minor": 5
}
