{
 "cells": [
  {
   "cell_type": "markdown",
   "id": "35a6ee5d",
   "metadata": {
    "papermill": {
     "duration": 0.00543,
     "end_time": "2022-10-20T22:13:42.109005",
     "exception": false,
     "start_time": "2022-10-20T22:13:42.103575",
     "status": "completed"
    },
    "tags": []
   },
   "source": [
    "# Dependencies"
   ]
  },
  {
   "cell_type": "code",
   "execution_count": 1,
   "id": "50f82927",
   "metadata": {
    "execution": {
     "iopub.execute_input": "2022-10-20T22:13:42.119609Z",
     "iopub.status.busy": "2022-10-20T22:13:42.119046Z",
     "iopub.status.idle": "2022-10-20T22:14:48.201358Z",
     "shell.execute_reply": "2022-10-20T22:14:48.200030Z"
    },
    "papermill": {
     "duration": 66.090685,
     "end_time": "2022-10-20T22:14:48.203930",
     "exception": false,
     "start_time": "2022-10-20T22:13:42.113245",
     "status": "completed"
    },
    "tags": []
   },
   "outputs": [
    {
     "name": "stdout",
     "output_type": "stream",
     "text": [
      "Collecting gdown\r\n",
      "  Downloading gdown-4.5.3.tar.gz (14 kB)\r\n",
      "  Installing build dependencies ... \u001b[?25l-\b \b\\\b \b|\b \b/\b \b-\b \b\\\b \bdone\r\n",
      "\u001b[?25h  Getting requirements to build wheel ... \u001b[?25l-\b \bdone\r\n",
      "\u001b[?25h  Preparing metadata (pyproject.toml) ... \u001b[?25l-\b \bdone\r\n",
      "\u001b[?25hRequirement already satisfied: six in /opt/conda/lib/python3.7/site-packages (from gdown) (1.15.0)\r\n",
      "Requirement already satisfied: beautifulsoup4 in /opt/conda/lib/python3.7/site-packages (from gdown) (4.11.1)\r\n",
      "Requirement already satisfied: tqdm in /opt/conda/lib/python3.7/site-packages (from gdown) (4.64.0)\r\n",
      "Requirement already satisfied: requests[socks] in /opt/conda/lib/python3.7/site-packages (from gdown) (2.28.1)\r\n",
      "Requirement already satisfied: filelock in /opt/conda/lib/python3.7/site-packages (from gdown) (3.7.1)\r\n",
      "Requirement already satisfied: soupsieve>1.2 in /opt/conda/lib/python3.7/site-packages (from beautifulsoup4->gdown) (2.3.1)\r\n",
      "Requirement already satisfied: urllib3<1.27,>=1.21.1 in /opt/conda/lib/python3.7/site-packages (from requests[socks]->gdown) (1.26.12)\r\n",
      "Requirement already satisfied: certifi>=2017.4.17 in /opt/conda/lib/python3.7/site-packages (from requests[socks]->gdown) (2022.9.24)\r\n",
      "Requirement already satisfied: charset-normalizer<3,>=2 in /opt/conda/lib/python3.7/site-packages (from requests[socks]->gdown) (2.1.0)\r\n",
      "Requirement already satisfied: idna<4,>=2.5 in /opt/conda/lib/python3.7/site-packages (from requests[socks]->gdown) (3.3)\r\n",
      "Requirement already satisfied: PySocks!=1.5.7,>=1.5.6 in /opt/conda/lib/python3.7/site-packages (from requests[socks]->gdown) (1.7.1)\r\n",
      "Building wheels for collected packages: gdown\r\n",
      "  Building wheel for gdown (pyproject.toml) ... \u001b[?25l-\b \bdone\r\n",
      "\u001b[?25h  Created wheel for gdown: filename=gdown-4.5.3-py3-none-any.whl size=14821 sha256=425f613918f62f714dda711ac8c187dbcce911e12100e01b74bc96255dd34fef\r\n",
      "  Stored in directory: /root/.cache/pip/wheels/94/8d/0b/bdcd83555c3555f91a33f6c2384428d9f163c7d75ab0d272b4\r\n",
      "Successfully built gdown\r\n",
      "Installing collected packages: gdown\r\n",
      "Successfully installed gdown-4.5.3\r\n",
      "\u001b[33mWARNING: Running pip as the 'root' user can result in broken permissions and conflicting behaviour with the system package manager. It is recommended to use a virtual environment instead: https://pip.pypa.io/warnings/venv\u001b[0m\u001b[33m\r\n",
      "\u001b[0mCollecting bnunicodenormalizer\r\n",
      "  Downloading bnunicodenormalizer-0.1.0.tar.gz (38 kB)\r\n",
      "  Preparing metadata (setup.py) ... \u001b[?25l-\b \bdone\r\n",
      "\u001b[?25hBuilding wheels for collected packages: bnunicodenormalizer\r\n",
      "  Building wheel for bnunicodenormalizer (setup.py) ... \u001b[?25l-\b \b\\\b \bdone\r\n",
      "\u001b[?25h  Created wheel for bnunicodenormalizer: filename=bnunicodenormalizer-0.1.0-py3-none-any.whl size=32742 sha256=3954f4832a20840e9446976acde4ed34169441533aebefd42004955ab9a57c40\r\n",
      "  Stored in directory: /root/.cache/pip/wheels/ed/e2/1b/2ceac3443a89e3869e118a197dd02c99921dddbcccacf9474c\r\n",
      "Successfully built bnunicodenormalizer\r\n",
      "Installing collected packages: bnunicodenormalizer\r\n",
      "Successfully installed bnunicodenormalizer-0.1.0\r\n",
      "\u001b[33mWARNING: Running pip as the 'root' user can result in broken permissions and conflicting behaviour with the system package manager. It is recommended to use a virtual environment instead: https://pip.pypa.io/warnings/venv\u001b[0m\u001b[33m\r\n",
      "\u001b[0mCollecting pytorch-pretrained-bert\r\n",
      "  Downloading pytorch_pretrained_bert-0.6.2-py3-none-any.whl (123 kB)\r\n",
      "\u001b[2K     \u001b[90m━━━━━━━━━━━━━━━━━━━━━━━━━━━━━━━━━━━━━\u001b[0m \u001b[32m123.8/123.8 kB\u001b[0m \u001b[31m605.5 kB/s\u001b[0m eta \u001b[36m0:00:00\u001b[0m\r\n",
      "\u001b[?25hRequirement already satisfied: requests in /opt/conda/lib/python3.7/site-packages (from pytorch-pretrained-bert) (2.28.1)\r\n",
      "Requirement already satisfied: numpy in /opt/conda/lib/python3.7/site-packages (from pytorch-pretrained-bert) (1.21.6)\r\n",
      "Requirement already satisfied: regex in /opt/conda/lib/python3.7/site-packages (from pytorch-pretrained-bert) (2021.11.10)\r\n",
      "Requirement already satisfied: boto3 in /opt/conda/lib/python3.7/site-packages (from pytorch-pretrained-bert) (1.24.93)\r\n",
      "Requirement already satisfied: tqdm in /opt/conda/lib/python3.7/site-packages (from pytorch-pretrained-bert) (4.64.0)\r\n",
      "Requirement already satisfied: torch>=0.4.1 in /opt/conda/lib/python3.7/site-packages (from pytorch-pretrained-bert) (1.11.0)\r\n",
      "Requirement already satisfied: typing-extensions in /opt/conda/lib/python3.7/site-packages (from torch>=0.4.1->pytorch-pretrained-bert) (4.1.1)\r\n",
      "Requirement already satisfied: jmespath<2.0.0,>=0.7.1 in /opt/conda/lib/python3.7/site-packages (from boto3->pytorch-pretrained-bert) (1.0.1)\r\n",
      "Requirement already satisfied: s3transfer<0.7.0,>=0.6.0 in /opt/conda/lib/python3.7/site-packages (from boto3->pytorch-pretrained-bert) (0.6.0)\r\n",
      "Requirement already satisfied: botocore<1.28.0,>=1.27.93 in /opt/conda/lib/python3.7/site-packages (from boto3->pytorch-pretrained-bert) (1.27.93)\r\n",
      "Requirement already satisfied: certifi>=2017.4.17 in /opt/conda/lib/python3.7/site-packages (from requests->pytorch-pretrained-bert) (2022.9.24)\r\n",
      "Requirement already satisfied: urllib3<1.27,>=1.21.1 in /opt/conda/lib/python3.7/site-packages (from requests->pytorch-pretrained-bert) (1.26.12)\r\n",
      "Requirement already satisfied: charset-normalizer<3,>=2 in /opt/conda/lib/python3.7/site-packages (from requests->pytorch-pretrained-bert) (2.1.0)\r\n",
      "Requirement already satisfied: idna<4,>=2.5 in /opt/conda/lib/python3.7/site-packages (from requests->pytorch-pretrained-bert) (3.3)\r\n",
      "Requirement already satisfied: python-dateutil<3.0.0,>=2.1 in /opt/conda/lib/python3.7/site-packages (from botocore<1.28.0,>=1.27.93->boto3->pytorch-pretrained-bert) (2.8.2)\r\n",
      "Requirement already satisfied: six>=1.5 in /opt/conda/lib/python3.7/site-packages (from python-dateutil<3.0.0,>=2.1->botocore<1.28.0,>=1.27.93->boto3->pytorch-pretrained-bert) (1.15.0)\r\n",
      "Installing collected packages: pytorch-pretrained-bert\r\n",
      "Successfully installed pytorch-pretrained-bert-0.6.2\r\n",
      "\u001b[33mWARNING: Running pip as the 'root' user can result in broken permissions and conflicting behaviour with the system package manager. It is recommended to use a virtual environment instead: https://pip.pypa.io/warnings/venv\u001b[0m\u001b[33m\r\n",
      "\u001b[0mCloning into 'banner'...\r\n",
      "remote: Enumerating objects: 26, done.\u001b[K\r\n",
      "remote: Counting objects: 100% (26/26), done.\u001b[K\r\n",
      "remote: Compressing objects: 100% (20/20), done.\u001b[K\r\n",
      "remote: Total 26 (delta 8), reused 18 (delta 3), pack-reused 0\u001b[K\r\n",
      "Unpacking objects: 100% (26/26), 94.31 KiB | 524.00 KiB/s, done.\r\n",
      "Cloning into 'NER-Bangla-Dataset'...\r\n",
      "remote: Enumerating objects: 24, done.\u001b[K\r\n",
      "remote: Counting objects: 100% (3/3), done.\u001b[K\r\n",
      "remote: Compressing objects: 100% (3/3), done.\u001b[K\r\n",
      "remote: Total 24 (delta 0), reused 0 (delta 0), pack-reused 21\u001b[K\r\n",
      "Unpacking objects: 100% (24/24), 5.16 MiB | 5.23 MiB/s, done.\r\n",
      "Archive:  NER-Bangla-Dataset/Bangla-NER-Splitted-Dataset.zip\r\n",
      "  inflating: dataset/Bangla-NER-Splitted-Dataset.json  \r\n",
      "Downloading...\r\n",
      "From: https://drive.google.com/uc?id=1LtE0By2_cHXoHP0is0l0DVwfXIHBHXEV\r\n",
      "To: /kaggle/working/banner_model.pt\r\n",
      "100%|█████████████████████████████████████████| 741M/741M [00:02<00:00, 357MB/s]\r\n"
     ]
    }
   ],
   "source": [
    "!pip install gdown\n",
    "!pip install bnunicodenormalizer\n",
    "!pip install pytorch-pretrained-bert\n",
    "# git clone model\n",
    "!git clone https://github.com/imranulashrafi/banner.git\n",
    "# copy model to models\n",
    "!cp /kaggle/input/gpun-ner-model/models/14.pt banner/models/\n",
    "# download dataset\n",
    "!git clone https://github.com/MISabic/NER-Bangla-Dataset.git\n",
    "# unzip \n",
    "!unzip NER-Bangla-Dataset/Bangla-NER-Splitted-Dataset.zip -d dataset \n",
    "# download weight-file\n",
    "!gdown 1LtE0By2_cHXoHP0is0l0DVwfXIHBHXEV\n",
    "# move model to models\n",
    "!mv banner_model.pt banner/models/banner_model.pt"
   ]
  },
  {
   "cell_type": "markdown",
   "id": "0ff1285c",
   "metadata": {
    "papermill": {
     "duration": 0.007449,
     "end_time": "2022-10-20T22:14:48.219698",
     "exception": false,
     "start_time": "2022-10-20T22:14:48.212249",
     "status": "completed"
    },
    "tags": []
   },
   "source": [
    "# Dataset"
   ]
  },
  {
   "cell_type": "code",
   "execution_count": 2,
   "id": "53519df3",
   "metadata": {
    "execution": {
     "iopub.execute_input": "2022-10-20T22:14:48.236898Z",
     "iopub.status.busy": "2022-10-20T22:14:48.236586Z",
     "iopub.status.idle": "2022-10-20T22:14:53.609806Z",
     "shell.execute_reply": "2022-10-20T22:14:53.608652Z"
    },
    "papermill": {
     "duration": 5.384773,
     "end_time": "2022-10-20T22:14:53.612403",
     "exception": false,
     "start_time": "2022-10-20T22:14:48.227630",
     "status": "completed"
    },
    "tags": []
   },
   "outputs": [
    {
     "name": "stderr",
     "output_type": "stream",
     "text": [
      "100%|██████████| 995526/995526 [00:00<00:00, 2284583.97B/s]\n"
     ]
    }
   ],
   "source": [
    "#-------------------------\n",
    "# imports\n",
    "#-------------------------\n",
    "import sys\n",
    "sys.path.append(\"./banner\")\n",
    "import json\n",
    "import os\n",
    "import pandas as pd \n",
    "from tqdm import tqdm\n",
    "from bnunicodenormalizer import Normalizer \n",
    "from sklearn.metrics import classification_report\n",
    "from net import Net\n",
    "from dataset import NerDataset, pad, VOCAB\n",
    "from trainer import eval\n",
    "import torch\n",
    "import numpy as np\n",
    "import random\n",
    "\n",
    "tqdm.pandas()\n",
    "# initialize\n",
    "bnorm=Normalizer()\n",
    "\n",
    "#-------------------------\n",
    "# format raw test set\n",
    "#-------------------------\n",
    "with open(\"./dataset/Bangla-NER-Splitted-Dataset.json\",\"r\") as f:\n",
    "    dataset=json.load(f)\n",
    "\n"
   ]
  },
  {
   "cell_type": "code",
   "execution_count": 3,
   "id": "a73b57b7",
   "metadata": {
    "execution": {
     "iopub.execute_input": "2022-10-20T22:14:53.630328Z",
     "iopub.status.busy": "2022-10-20T22:14:53.629998Z",
     "iopub.status.idle": "2022-10-20T22:14:53.645689Z",
     "shell.execute_reply": "2022-10-20T22:14:53.644315Z"
    },
    "papermill": {
     "duration": 0.027062,
     "end_time": "2022-10-20T22:14:53.648061",
     "exception": false,
     "start_time": "2022-10-20T22:14:53.620999",
     "status": "completed"
    },
    "tags": []
   },
   "outputs": [],
   "source": [
    "\n",
    "def infect(word, random_number = 75):\n",
    "    # ref: https://colab.research.google.com/drive/17cP5xTdMf_hahluDyBr0h70j2gxNMiAb?usp=sharing\n",
    "    nukta_map              =   {'য়':'য়',\n",
    "                            'র':'ব়',\n",
    "                            'ড়':'ড়',\n",
    "                            'ঢ়':'ঢ়'}\n",
    "    diacritic_map           =   {'ো':'ো',\n",
    "                                'ৌ':'ৌ',\n",
    "                                'অা':'আ',\n",
    "                                'ৃ':'ৄ'}\n",
    "\n",
    "\n",
    "    vowel_diacritics       =   ['া', 'ি', 'ী', 'ু', 'ূ', 'ৃ', 'ে', 'ৈ', 'ো', 'ৌ']\n",
    "\n",
    "    non_gylph_unicodes     =   ['\\u0984', '\\u098d','\\u098e','\\u0991','\\u0992','\\u09a9','\\u09b1','\\u09b3','\\u09b4','\\u09b5',\n",
    "                                    '\\u09ba','\\u09bb', '\\u09c5','\\u09c6','\\u09c9','\\u09ca','\\u09cf','\\u09d0','\\u09d1','\\u09d2',\n",
    "                                    '\\u09d3','\\u09d4','\\u09d5','\\u09d6', '\\u09d8','\\u09d9','\\u09da','\\u09db','\\u09de', '\\u09e4',\n",
    "                                    '\\u09e5','\\u09ff']\n",
    "\n",
    "    vowels                 =   ['অ', 'আ', 'ই', 'ঈ', 'উ', 'ঊ', 'ঋ', 'এ', 'ঐ', 'ও', 'ঔ']\n",
    "\n",
    "    consonants             =   ['ক', 'খ', 'গ', 'ঘ', 'ঙ', 'চ', 'ছ','জ', 'ঝ', 'ঞ', 'ট', 'ঠ', 'ড', 'ঢ', 'ণ', 'ত', 'থ', 'দ', 'ধ', 'ন', \n",
    "                                    'প', 'ফ', 'ব', 'ভ', 'ম', 'য', 'র', 'ল', 'শ', 'ষ', 'স', 'হ','ড়', 'ঢ়', 'য়','ৎ']\n",
    "\n",
    "\n",
    "    connector              =   '্'\n",
    "    nukta                  =   '়'\n",
    "    original=\"\".join([c for c in word])\n",
    "    try:\n",
    "    \n",
    "        random_number = random_number % 5\n",
    "\n",
    "\n",
    "        part = [i for i in word]\n",
    "        new_word = []\n",
    "\n",
    "        if random.randint(0, 100) > 70:\n",
    "            index_connector = random.randint(1, len(word))\n",
    "            word = word[:index_connector] + non_gylph_unicodes[random.randint(0, len(non_gylph_unicodes))] + word[index_connector:]\n",
    "            index_connector = random.randint(1, len(word))\n",
    "            word = word[:index_connector] + connector + word[index_connector:]\n",
    "\n",
    "        for i in word:\n",
    "            if i in vowels:\n",
    "                if random.randint(0, 100) > 50:\n",
    "                    word = word.replace(i, i+vowel_diacritics[random.randint(0, len(vowel_diacritics))])\n",
    "\n",
    "        for i in part:\n",
    "            for k in list(nukta_map):\n",
    "                if i == k:\n",
    "                    word = word.replace(k, nukta_map[k])\n",
    "\n",
    "        for i in range(len(part)):\n",
    "            for k in list(diacritic_map):\n",
    "                if part[i] == k:\n",
    "                    d_part = [_ for _ in diacritic_map[k]]\n",
    "                    word = (\"\".join(part[:i]) + d_part[0] + d_part[1] + \"\".join(part[i+1:]))\n",
    "                    #word = \"\".join(part)\n",
    "\n",
    "        return word\n",
    "    except Exception as e:\n",
    "        return original\n"
   ]
  },
  {
   "cell_type": "code",
   "execution_count": 4,
   "id": "9fb61074",
   "metadata": {
    "execution": {
     "iopub.execute_input": "2022-10-20T22:14:53.666623Z",
     "iopub.status.busy": "2022-10-20T22:14:53.666357Z",
     "iopub.status.idle": "2022-10-20T22:14:53.671716Z",
     "shell.execute_reply": "2022-10-20T22:14:53.670633Z"
    },
    "papermill": {
     "duration": 0.016312,
     "end_time": "2022-10-20T22:14:53.673787",
     "exception": false,
     "start_time": "2022-10-20T22:14:53.657475",
     "status": "completed"
    },
    "tags": []
   },
   "outputs": [],
   "source": [
    "def norm_sentence(sent):\n",
    "    words=[]\n",
    "    for word in sent:\n",
    "        data=bnorm(word)\n",
    "        if data[\"normalized\"] is None:\n",
    "            words.append(word)\n",
    "        else:\n",
    "            words.append(data[\"normalized\"])\n",
    "    return words"
   ]
  },
  {
   "cell_type": "markdown",
   "id": "ba7e4f57",
   "metadata": {
    "papermill": {
     "duration": 0.008188,
     "end_time": "2022-10-20T22:14:53.689932",
     "exception": false,
     "start_time": "2022-10-20T22:14:53.681744",
     "status": "completed"
    },
    "tags": []
   },
   "source": [
    "* original --> df\n",
    "* normalized--> dfn\n",
    "* infected1-->df1\n",
    "* infected2-->df2\n",
    "* infected5-->df5\n",
    "* infected1 norm-->df1n\n",
    "* infected2 norm-->df2n\n",
    "* infected5 norm-->df5n\n"
   ]
  },
  {
   "cell_type": "code",
   "execution_count": 5,
   "id": "8b9a7dcd",
   "metadata": {
    "execution": {
     "iopub.execute_input": "2022-10-20T22:14:53.706799Z",
     "iopub.status.busy": "2022-10-20T22:14:53.706536Z",
     "iopub.status.idle": "2022-10-20T22:16:15.986831Z",
     "shell.execute_reply": "2022-10-20T22:16:15.985671Z"
    },
    "papermill": {
     "duration": 82.291822,
     "end_time": "2022-10-20T22:16:15.989642",
     "exception": false,
     "start_time": "2022-10-20T22:14:53.697820",
     "status": "completed"
    },
    "tags": []
   },
   "outputs": [
    {
     "name": "stderr",
     "output_type": "stream",
     "text": [
      "100%|██████████| 3564/3564 [00:18<00:00, 187.59it/s]\n",
      "100%|██████████| 3564/3564 [00:00<00:00, 4061.30it/s]\n",
      "100%|██████████| 3564/3564 [00:00<00:00, 4672.45it/s]\n",
      "100%|██████████| 3564/3564 [00:00<00:00, 5069.21it/s]\n",
      "100%|██████████| 3564/3564 [00:00<00:00, 4654.72it/s]\n",
      "100%|██████████| 3564/3564 [00:00<00:00, 4421.40it/s]\n",
      "100%|██████████| 3564/3564 [00:00<00:00, 4157.35it/s]\n",
      "100%|██████████| 3564/3564 [00:00<00:00, 4014.79it/s]\n",
      "100%|██████████| 3564/3564 [00:19<00:00, 187.46it/s]\n",
      "100%|██████████| 3564/3564 [00:18<00:00, 192.27it/s]\n",
      "100%|██████████| 3564/3564 [00:19<00:00, 178.33it/s]\n"
     ]
    }
   ],
   "source": [
    "# original\n",
    "df=pd.DataFrame(dataset[\"test\"])\n",
    "# normalied\n",
    "dfn=df.copy() \n",
    "dfn.sentence=dfn.sentence.progress_apply(lambda x:norm_sentence(x))\n",
    "\n",
    "# infected-1\n",
    "df1=df.copy() \n",
    "df1.sentence=df1.sentence.progress_apply(lambda x:[infect(i) for i in x])\n",
    "\n",
    "# infected-2\n",
    "df2=df1.copy() \n",
    "df2.sentence=df2.sentence.progress_apply(lambda x:[infect(i) for i in x])\n",
    "# infected-5\n",
    "df5=df.copy()\n",
    "for i in range(5):\n",
    "    df5.sentence=df5.sentence.progress_apply(lambda x:[infect(i) for i in x])\n",
    "\n",
    "# infected-1-norm\n",
    "df1n=df1.copy() \n",
    "df1n.sentence=df1n.sentence.progress_apply(lambda x:norm_sentence(x))\n",
    "# infected-2-norm\n",
    "df2n=df2.copy() \n",
    "df2n.sentence=df2n.sentence.progress_apply(lambda x:norm_sentence(x))\n",
    "# infected-5-norm\n",
    "df5n=df5.copy() \n",
    "df5n.sentence=df5n.sentence.progress_apply(lambda x:norm_sentence(x))\n"
   ]
  },
  {
   "cell_type": "markdown",
   "id": "d93e2055",
   "metadata": {
    "papermill": {
     "duration": 0.046232,
     "end_time": "2022-10-20T22:16:16.083416",
     "exception": false,
     "start_time": "2022-10-20T22:16:16.037184",
     "status": "completed"
    },
    "tags": []
   },
   "source": [
    "# Load models"
   ]
  },
  {
   "cell_type": "code",
   "execution_count": 6,
   "id": "2c74d190",
   "metadata": {
    "execution": {
     "iopub.execute_input": "2022-10-20T22:16:16.177361Z",
     "iopub.status.busy": "2022-10-20T22:16:16.176956Z",
     "iopub.status.idle": "2022-10-20T22:17:11.134433Z",
     "shell.execute_reply": "2022-10-20T22:17:11.133351Z"
    },
    "papermill": {
     "duration": 55.00755,
     "end_time": "2022-10-20T22:17:11.136925",
     "exception": false,
     "start_time": "2022-10-20T22:16:16.129375",
     "status": "completed"
    },
    "tags": []
   },
   "outputs": [
    {
     "name": "stderr",
     "output_type": "stream",
     "text": [
      "100%|██████████| 662804195/662804195 [00:24<00:00, 27584966.88B/s]\n"
     ]
    }
   ],
   "source": [
    "# model\n",
    "device = 'cuda' if torch.cuda.is_available() else 'cpu'\n",
    "top_rnns=True\n",
    "model_s = Net(top_rnns, len(VOCAB), device, finetuning=True)\n",
    "model_b = Net(top_rnns, len(VOCAB), device, finetuning=True)\n",
    "# trained with normalized data here: https://www.kaggle.com/code/nazmuddhohaansary/gpun-ner-train-with-normalized-data\n",
    "model_s.load_state_dict(torch.load('banner/models/14.pt'))\n",
    "model_s=model_s.to(device)\n",
    "# zero - shot\n",
    "model_b.load_state_dict(torch.load('banner/models/banner_model.pt'))\n",
    "model_b=model_b.to(device)\n",
    "\n",
    "def run_ner_infer(sent,model):\n",
    "    tags = []\n",
    "    for x in range(len(sent.split())):\n",
    "        tags.append('O')\n",
    "    sent_infer=[]\n",
    "    sent_infer.append([\"[CLS]\"] + sent.split() + [\"[SEP]\"])\n",
    "    tags_infer=[]\n",
    "    tags_infer.append([\"<PAD>\"] + tags + [\"<PAD>\"])\n",
    "\n",
    "    infer_data = NerDataset(sent_infer, tags_infer)\n",
    "\n",
    "    infer_iter = torch.utils.data.DataLoader(dataset=infer_data,\n",
    "                             batch_size=1,\n",
    "                             shuffle=False,\n",
    "                             collate_fn = pad,\n",
    "                             num_workers=0\n",
    "                             )\n",
    "    pred = eval(model, infer_iter)\n",
    "    for x in range(len(pred[0])):\n",
    "        if pred[0][x] == '<PAD>':\n",
    "            pred[0][x] = 'O'\n",
    "    return pred[0][1:-1]"
   ]
  },
  {
   "cell_type": "code",
   "execution_count": 7,
   "id": "71eb850e",
   "metadata": {
    "execution": {
     "iopub.execute_input": "2022-10-20T22:17:11.260911Z",
     "iopub.status.busy": "2022-10-20T22:17:11.259766Z",
     "iopub.status.idle": "2022-10-20T22:17:11.267593Z",
     "shell.execute_reply": "2022-10-20T22:17:11.266943Z"
    },
    "papermill": {
     "duration": 0.071793,
     "end_time": "2022-10-20T22:17:11.269535",
     "exception": false,
     "start_time": "2022-10-20T22:17:11.197742",
     "status": "completed"
    },
    "tags": []
   },
   "outputs": [],
   "source": [
    "def eval_data(df):\n",
    "    preds=[]\n",
    "    gts=[]\n",
    "    for idx in tqdm(range(len(df))):\n",
    "        pred=df.iloc[idx,-1]\n",
    "        gt=df.iloc[idx,-2]\n",
    "        preds+=pred\n",
    "        gts+=gt\n",
    "    eval_predictions(preds,gts)\n",
    "\n",
    "def eval_predictions(pred,gt):\n",
    "    pred=[VOCAB.index(p) for p in tqdm(pred)]\n",
    "    gt=[VOCAB.index(p) for p in tqdm(gt)]\n",
    "    report = classification_report(np.array(gt),np.array(pred), labels = [1,2,3,4,5,6,7,8,9], digits=4, zero_division=0)\n",
    "    print(report)    \n",
    "\n"
   ]
  },
  {
   "cell_type": "code",
   "execution_count": 8,
   "id": "73619dd1",
   "metadata": {
    "execution": {
     "iopub.execute_input": "2022-10-20T22:17:11.397524Z",
     "iopub.status.busy": "2022-10-20T22:17:11.396540Z",
     "iopub.status.idle": "2022-10-20T22:17:11.402562Z",
     "shell.execute_reply": "2022-10-20T22:17:11.401636Z"
    },
    "papermill": {
     "duration": 0.072011,
     "end_time": "2022-10-20T22:17:11.404984",
     "exception": false,
     "start_time": "2022-10-20T22:17:11.332973",
     "status": "completed"
    },
    "tags": []
   },
   "outputs": [],
   "source": [
    "def get_stat(model,df):\n",
    "    df[\"predicted_tags\"]=df.sentence.progress_apply(lambda x:run_ner_infer(\" \".join(x),model))\n",
    "    eval_data(df)"
   ]
  },
  {
   "cell_type": "markdown",
   "id": "f26f328c",
   "metadata": {
    "papermill": {
     "duration": 0.06115,
     "end_time": "2022-10-20T22:17:11.525138",
     "exception": false,
     "start_time": "2022-10-20T22:17:11.463988",
     "status": "completed"
    },
    "tags": []
   },
   "source": [
    "# Exp-1: Original"
   ]
  },
  {
   "cell_type": "code",
   "execution_count": 9,
   "id": "c4c21ca4",
   "metadata": {
    "execution": {
     "iopub.execute_input": "2022-10-20T22:17:11.654226Z",
     "iopub.status.busy": "2022-10-20T22:17:11.653853Z",
     "iopub.status.idle": "2022-10-20T22:19:32.383684Z",
     "shell.execute_reply": "2022-10-20T22:19:32.382461Z"
    },
    "papermill": {
     "duration": 140.800924,
     "end_time": "2022-10-20T22:19:32.386556",
     "exception": false,
     "start_time": "2022-10-20T22:17:11.585632",
     "status": "completed"
    },
    "tags": []
   },
   "outputs": [
    {
     "name": "stdout",
     "output_type": "stream",
     "text": [
      "banner - original\n",
      "-------------------------------------\n"
     ]
    },
    {
     "name": "stderr",
     "output_type": "stream",
     "text": [
      "100%|██████████| 3564/3564 [01:10<00:00, 50.83it/s]\n",
      "100%|██████████| 3564/3564 [00:00<00:00, 16468.51it/s]\n",
      "100%|██████████| 49118/49118 [00:00<00:00, 1699548.12it/s]\n",
      "100%|██████████| 49118/49118 [00:00<00:00, 1786176.61it/s]\n"
     ]
    },
    {
     "name": "stdout",
     "output_type": "stream",
     "text": [
      "              precision    recall  f1-score   support\n",
      "\n",
      "           1     0.6973    0.6583    0.6772       357\n",
      "           2     0.5186    0.5569    0.5370       853\n",
      "           3     0.9559    0.9463    0.9511     39499\n",
      "           4     0.3778    0.2982    0.3333        57\n",
      "           5     0.7919    0.7874    0.7897      1223\n",
      "           6     0.4578    0.4921    0.4743       573\n",
      "           7     0.5152    0.6589    0.5782       516\n",
      "           8     0.7879    0.7706    0.7791      2005\n",
      "           9     0.7616    0.8045    0.7825      4035\n",
      "\n",
      "    accuracy                         0.9056     49118\n",
      "   macro avg     0.6515    0.6637    0.6558     49118\n",
      "weighted avg     0.9084    0.9056    0.9068     49118\n",
      "\n",
      "scratch - original\n",
      "-------------------------------------\n"
     ]
    },
    {
     "name": "stderr",
     "output_type": "stream",
     "text": [
      "100%|██████████| 3564/3564 [01:09<00:00, 50.98it/s]\n",
      "100%|██████████| 3564/3564 [00:00<00:00, 19313.23it/s]\n",
      "100%|██████████| 49118/49118 [00:00<00:00, 1898675.86it/s]\n",
      "100%|██████████| 49118/49118 [00:00<00:00, 1982217.45it/s]\n"
     ]
    },
    {
     "name": "stdout",
     "output_type": "stream",
     "text": [
      "              precision    recall  f1-score   support\n",
      "\n",
      "           1     0.7218    0.5742    0.6396       357\n",
      "           2     0.5957    0.4560    0.5166       853\n",
      "           3     0.9515    0.9513    0.9514     39499\n",
      "           4     0.7778    0.1228    0.2121        57\n",
      "           5     0.7764    0.8005    0.7882      1223\n",
      "           6     0.5153    0.4119    0.4578       573\n",
      "           7     0.5649    0.5310    0.5475       516\n",
      "           8     0.7970    0.7441    0.7697      2005\n",
      "           9     0.7356    0.8392    0.7840      4035\n",
      "\n",
      "    accuracy                         0.9069     49118\n",
      "   macro avg     0.7151    0.6035    0.6297     49118\n",
      "weighted avg     0.9059    0.9069    0.9055     49118\n",
      "\n"
     ]
    }
   ],
   "source": [
    "print(\"banner - original\")\n",
    "print(\"-------------------------------------\")\n",
    "get_stat(model_b,df)\n",
    "print(\"scratch - original\")\n",
    "print(\"-------------------------------------\")\n",
    "get_stat(model_s,df)"
   ]
  },
  {
   "cell_type": "markdown",
   "id": "a67be17d",
   "metadata": {
    "papermill": {
     "duration": 0.153277,
     "end_time": "2022-10-20T22:19:32.716210",
     "exception": false,
     "start_time": "2022-10-20T22:19:32.562933",
     "status": "completed"
    },
    "tags": []
   },
   "source": [
    "# Exp-2 Normalized"
   ]
  },
  {
   "cell_type": "code",
   "execution_count": 10,
   "id": "28162101",
   "metadata": {
    "execution": {
     "iopub.execute_input": "2022-10-20T22:19:32.958169Z",
     "iopub.status.busy": "2022-10-20T22:19:32.957728Z",
     "iopub.status.idle": "2022-10-20T22:21:49.241274Z",
     "shell.execute_reply": "2022-10-20T22:21:49.239731Z"
    },
    "papermill": {
     "duration": 136.408277,
     "end_time": "2022-10-20T22:21:49.244244",
     "exception": false,
     "start_time": "2022-10-20T22:19:32.835967",
     "status": "completed"
    },
    "tags": []
   },
   "outputs": [
    {
     "name": "stdout",
     "output_type": "stream",
     "text": [
      "banner - normalized\n",
      "-------------------------------------\n"
     ]
    },
    {
     "name": "stderr",
     "output_type": "stream",
     "text": [
      "100%|██████████| 3564/3564 [01:07<00:00, 52.78it/s]\n",
      "100%|██████████| 3564/3564 [00:00<00:00, 18944.98it/s]\n",
      "100%|██████████| 49118/49118 [00:00<00:00, 1961214.94it/s]\n",
      "100%|██████████| 49118/49118 [00:00<00:00, 1624973.96it/s]\n"
     ]
    },
    {
     "name": "stdout",
     "output_type": "stream",
     "text": [
      "              precision    recall  f1-score   support\n",
      "\n",
      "           1     0.7057    0.5574    0.6228       357\n",
      "           2     0.4687    0.5264    0.4959       853\n",
      "           3     0.9525    0.9408    0.9466     39499\n",
      "           4     0.3529    0.3158    0.3333        57\n",
      "           5     0.7737    0.7686    0.7711      1223\n",
      "           6     0.4206    0.4764    0.4468       573\n",
      "           7     0.4736    0.6434    0.5456       516\n",
      "           8     0.7752    0.7257    0.7496      2005\n",
      "           9     0.7378    0.7993    0.7673      4035\n",
      "\n",
      "    accuracy                         0.8969     49118\n",
      "   macro avg     0.6290    0.6393    0.6310     49118\n",
      "weighted avg     0.9010    0.8969    0.8985     49118\n",
      "\n",
      "scratch - normalized\n",
      "-------------------------------------\n"
     ]
    },
    {
     "name": "stderr",
     "output_type": "stream",
     "text": [
      "100%|██████████| 3564/3564 [01:07<00:00, 52.47it/s]\n",
      "100%|██████████| 3564/3564 [00:00<00:00, 12158.37it/s]\n",
      "100%|██████████| 49118/49118 [00:00<00:00, 1295387.42it/s]\n",
      "100%|██████████| 49118/49118 [00:00<00:00, 1268297.00it/s]\n"
     ]
    },
    {
     "name": "stdout",
     "output_type": "stream",
     "text": [
      "              precision    recall  f1-score   support\n",
      "\n",
      "           1     0.7128    0.5910    0.6462       357\n",
      "           2     0.6065    0.4572    0.5214       853\n",
      "           3     0.9494    0.9522    0.9508     39499\n",
      "           4     0.5385    0.1228    0.2000        57\n",
      "           5     0.7702    0.7890    0.7795      1223\n",
      "           6     0.5261    0.4049    0.4576       573\n",
      "           7     0.5705    0.5329    0.5511       516\n",
      "           8     0.7929    0.7197    0.7545      2005\n",
      "           9     0.7341    0.8287    0.7786      4035\n",
      "\n",
      "    accuracy                         0.9055     49118\n",
      "   macro avg     0.6890    0.5998    0.6266     49118\n",
      "weighted avg     0.9038    0.9055    0.9038     49118\n",
      "\n"
     ]
    }
   ],
   "source": [
    "print(\"banner - normalized\")\n",
    "print(\"-------------------------------------\")\n",
    "get_stat(model_b,dfn)\n",
    "print(\"scratch - normalized\")\n",
    "print(\"-------------------------------------\")\n",
    "get_stat(model_s,dfn)"
   ]
  },
  {
   "cell_type": "markdown",
   "id": "11513dba",
   "metadata": {
    "papermill": {
     "duration": 0.184613,
     "end_time": "2022-10-20T22:21:49.645849",
     "exception": false,
     "start_time": "2022-10-20T22:21:49.461236",
     "status": "completed"
    },
    "tags": []
   },
   "source": [
    "# Exp-3 Unnorm-1"
   ]
  },
  {
   "cell_type": "code",
   "execution_count": 11,
   "id": "f592eca3",
   "metadata": {
    "execution": {
     "iopub.execute_input": "2022-10-20T22:21:50.066182Z",
     "iopub.status.busy": "2022-10-20T22:21:50.065795Z",
     "iopub.status.idle": "2022-10-20T22:25:44.711726Z",
     "shell.execute_reply": "2022-10-20T22:25:44.710535Z"
    },
    "papermill": {
     "duration": 234.832181,
     "end_time": "2022-10-20T22:25:44.714733",
     "exception": false,
     "start_time": "2022-10-20T22:21:49.882552",
     "status": "completed"
    },
    "tags": []
   },
   "outputs": [
    {
     "name": "stdout",
     "output_type": "stream",
     "text": [
      "banner - un-normalized-1\n",
      "-------------------------------------\n"
     ]
    },
    {
     "name": "stderr",
     "output_type": "stream",
     "text": [
      "100%|██████████| 3564/3564 [01:23<00:00, 42.75it/s]\n",
      "100%|██████████| 3564/3564 [00:00<00:00, 18387.90it/s]\n",
      "100%|██████████| 49118/49118 [00:00<00:00, 1983553.41it/s]\n",
      "100%|██████████| 49118/49118 [00:00<00:00, 1958213.64it/s]\n"
     ]
    },
    {
     "name": "stdout",
     "output_type": "stream",
     "text": [
      "              precision    recall  f1-score   support\n",
      "\n",
      "           1     0.5125    0.1148    0.1876       357\n",
      "           2     0.5088    0.2708    0.3535       853\n",
      "           3     0.8815    0.9646    0.9212     39499\n",
      "           4     0.4000    0.0351    0.0645        57\n",
      "           5     0.6507    0.5102    0.5720      1223\n",
      "           6     0.4167    0.1222    0.1889       573\n",
      "           7     0.5073    0.3372    0.4051       516\n",
      "           8     0.6599    0.3591    0.4651      2005\n",
      "           9     0.6348    0.4394    0.5193      4035\n",
      "\n",
      "    accuracy                         0.8497     49118\n",
      "   macro avg     0.5747    0.3504    0.4086     49118\n",
      "weighted avg     0.8274    0.8497    0.8307     49118\n",
      "\n",
      "scratch - un-normalized-1\n",
      "-------------------------------------\n"
     ]
    },
    {
     "name": "stderr",
     "output_type": "stream",
     "text": [
      "100%|██████████| 3564/3564 [01:21<00:00, 43.61it/s]\n",
      "100%|██████████| 3564/3564 [00:00<00:00, 19222.61it/s]\n",
      "100%|██████████| 49118/49118 [00:00<00:00, 1910738.49it/s]\n",
      "100%|██████████| 49118/49118 [00:00<00:00, 1881955.84it/s]\n"
     ]
    },
    {
     "name": "stdout",
     "output_type": "stream",
     "text": [
      "              precision    recall  f1-score   support\n",
      "\n",
      "           1     0.5957    0.0784    0.1386       357\n",
      "           2     0.5974    0.2122    0.3131       853\n",
      "           3     0.8920    0.9513    0.9207     39499\n",
      "           4     0.4000    0.0351    0.0645        57\n",
      "           5     0.5411    0.6141    0.5753      1223\n",
      "           6     0.4080    0.1239    0.1901       573\n",
      "           7     0.5105    0.2364    0.3232       516\n",
      "           8     0.6912    0.3516    0.4661      2005\n",
      "           9     0.5772    0.5460    0.5611      4035\n",
      "\n",
      "    accuracy                         0.8477     49118\n",
      "   macro avg     0.5792    0.3499    0.3947     49118\n",
      "weighted avg     0.8317    0.8477    0.8320     49118\n",
      "\n",
      "scratch - normalized-1\n",
      "-------------------------------------\n"
     ]
    },
    {
     "name": "stderr",
     "output_type": "stream",
     "text": [
      "100%|██████████| 3564/3564 [01:08<00:00, 51.99it/s]\n",
      "100%|██████████| 3564/3564 [00:00<00:00, 19194.54it/s]\n",
      "100%|██████████| 49118/49118 [00:00<00:00, 1986786.22it/s]\n",
      "100%|██████████| 49118/49118 [00:00<00:00, 1912707.61it/s]\n"
     ]
    },
    {
     "name": "stdout",
     "output_type": "stream",
     "text": [
      "              precision    recall  f1-score   support\n",
      "\n",
      "           1     0.6380    0.5826    0.6091       357\n",
      "           2     0.6023    0.4279    0.5003       853\n",
      "           3     0.9476    0.9478    0.9477     39499\n",
      "           4     0.5385    0.1228    0.2000        57\n",
      "           5     0.7502    0.7809    0.7652      1223\n",
      "           6     0.5147    0.3979    0.4488       573\n",
      "           7     0.5509    0.5136    0.5316       516\n",
      "           8     0.7686    0.7072    0.7366      2005\n",
      "           9     0.7185    0.8230    0.7672      4035\n",
      "\n",
      "    accuracy                         0.9000     49118\n",
      "   macro avg     0.6699    0.5893    0.6118     49118\n",
      "weighted avg     0.8986    0.9000    0.8984     49118\n",
      "\n"
     ]
    }
   ],
   "source": [
    "print(\"banner - un-normalized-1\")\n",
    "print(\"-------------------------------------\")\n",
    "get_stat(model_b,df1)\n",
    "print(\"scratch - un-normalized-1\")\n",
    "print(\"-------------------------------------\")\n",
    "get_stat(model_s,df1)\n",
    "print(\"scratch - normalized-1\")\n",
    "print(\"-------------------------------------\")\n",
    "get_stat(model_s,df1n)"
   ]
  },
  {
   "cell_type": "markdown",
   "id": "7fc2b9b7",
   "metadata": {
    "papermill": {
     "duration": 0.282359,
     "end_time": "2022-10-20T22:25:45.290613",
     "exception": false,
     "start_time": "2022-10-20T22:25:45.008254",
     "status": "completed"
    },
    "tags": []
   },
   "source": [
    "# Exp-4 Unnorm-2"
   ]
  },
  {
   "cell_type": "code",
   "execution_count": 12,
   "id": "95a47f3f",
   "metadata": {
    "execution": {
     "iopub.execute_input": "2022-10-20T22:25:45.898613Z",
     "iopub.status.busy": "2022-10-20T22:25:45.898252Z",
     "iopub.status.idle": "2022-10-20T22:29:50.122484Z",
     "shell.execute_reply": "2022-10-20T22:29:50.120933Z"
    },
    "papermill": {
     "duration": 244.507051,
     "end_time": "2022-10-20T22:29:50.124563",
     "exception": false,
     "start_time": "2022-10-20T22:25:45.617512",
     "status": "completed"
    },
    "tags": []
   },
   "outputs": [
    {
     "name": "stdout",
     "output_type": "stream",
     "text": [
      "banner - un-normalized-2\n",
      "-------------------------------------\n"
     ]
    },
    {
     "name": "stderr",
     "output_type": "stream",
     "text": [
      "100%|██████████| 3564/3564 [01:26<00:00, 41.03it/s]\n",
      "100%|██████████| 3564/3564 [00:00<00:00, 19260.01it/s]\n",
      "100%|██████████| 49118/49118 [00:00<00:00, 2043767.23it/s]\n",
      "100%|██████████| 49118/49118 [00:00<00:00, 1954071.69it/s]\n"
     ]
    },
    {
     "name": "stdout",
     "output_type": "stream",
     "text": [
      "              precision    recall  f1-score   support\n",
      "\n",
      "           1     0.5000    0.0616    0.1097       357\n",
      "           2     0.5149    0.2227    0.3110       853\n",
      "           3     0.8625    0.9700    0.9131     39499\n",
      "           4     0.0000    0.0000    0.0000        57\n",
      "           5     0.6036    0.3835    0.4690      1223\n",
      "           6     0.3670    0.0698    0.1173       573\n",
      "           7     0.4893    0.2655    0.3442       516\n",
      "           8     0.6509    0.2753    0.3870      2005\n",
      "           9     0.5941    0.3341    0.4277      4035\n",
      "\n",
      "    accuracy                         0.8362     49118\n",
      "   macro avg     0.5091    0.2869    0.3421     49118\n",
      "weighted avg     0.8060    0.8362    0.8081     49118\n",
      "\n",
      "scratch - un-normalized-2\n",
      "-------------------------------------\n"
     ]
    },
    {
     "name": "stderr",
     "output_type": "stream",
     "text": [
      "100%|██████████| 3564/3564 [01:27<00:00, 40.96it/s]\n",
      "100%|██████████| 3564/3564 [00:00<00:00, 19227.78it/s]\n",
      "100%|██████████| 49118/49118 [00:00<00:00, 2077191.21it/s]\n",
      "100%|██████████| 49118/49118 [00:00<00:00, 1951350.91it/s]\n"
     ]
    },
    {
     "name": "stdout",
     "output_type": "stream",
     "text": [
      "              precision    recall  f1-score   support\n",
      "\n",
      "           1     0.5385    0.0392    0.0731       357\n",
      "           2     0.6207    0.1688    0.2654       853\n",
      "           3     0.8793    0.9528    0.9146     39499\n",
      "           4     0.0000    0.0000    0.0000        57\n",
      "           5     0.5045    0.5511    0.5268      1223\n",
      "           6     0.4286    0.0890    0.1474       573\n",
      "           7     0.5661    0.2074    0.3035       516\n",
      "           8     0.6626    0.2703    0.3840      2005\n",
      "           9     0.5391    0.4803    0.5080      4035\n",
      "\n",
      "    accuracy                         0.8369     49118\n",
      "   macro avg     0.5266    0.3065    0.3470     49118\n",
      "weighted avg     0.8166    0.8369    0.8160     49118\n",
      "\n",
      "scratch - normalized-2\n",
      "-------------------------------------\n"
     ]
    },
    {
     "name": "stderr",
     "output_type": "stream",
     "text": [
      "100%|██████████| 3564/3564 [01:09<00:00, 51.38it/s]\n",
      "100%|██████████| 3564/3564 [00:00<00:00, 18904.04it/s]\n",
      "100%|██████████| 49118/49118 [00:00<00:00, 1855045.82it/s]\n",
      "100%|██████████| 49118/49118 [00:00<00:00, 1826705.30it/s]\n"
     ]
    },
    {
     "name": "stdout",
     "output_type": "stream",
     "text": [
      "              precision    recall  f1-score   support\n",
      "\n",
      "           1     0.5941    0.5658    0.5796       357\n",
      "           2     0.6062    0.4115    0.4902       853\n",
      "           3     0.9462    0.9457    0.9459     39499\n",
      "           4     0.5000    0.1228    0.1972        57\n",
      "           5     0.7387    0.7743    0.7561      1223\n",
      "           6     0.5045    0.3944    0.4427       573\n",
      "           7     0.5389    0.5097    0.5239       516\n",
      "           8     0.7555    0.6888    0.7206      2005\n",
      "           9     0.7074    0.8171    0.7583      4035\n",
      "\n",
      "    accuracy                         0.8964     49118\n",
      "   macro avg     0.6546    0.5811    0.6016     49118\n",
      "weighted avg     0.8952    0.8964    0.8949     49118\n",
      "\n"
     ]
    }
   ],
   "source": [
    "print(\"banner - un-normalized-2\")\n",
    "print(\"-------------------------------------\")\n",
    "get_stat(model_b,df2)\n",
    "print(\"scratch - un-normalized-2\")\n",
    "print(\"-------------------------------------\")\n",
    "get_stat(model_s,df2)\n",
    "print(\"scratch - normalized-2\")\n",
    "print(\"-------------------------------------\")\n",
    "get_stat(model_s,df2n)"
   ]
  },
  {
   "cell_type": "markdown",
   "id": "6e227f75",
   "metadata": {
    "papermill": {
     "duration": 0.430893,
     "end_time": "2022-10-20T22:29:50.940908",
     "exception": false,
     "start_time": "2022-10-20T22:29:50.510015",
     "status": "completed"
    },
    "tags": []
   },
   "source": [
    "# Exp-5 Unnorm 5"
   ]
  },
  {
   "cell_type": "code",
   "execution_count": 13,
   "id": "2e721349",
   "metadata": {
    "execution": {
     "iopub.execute_input": "2022-10-20T22:29:51.711027Z",
     "iopub.status.busy": "2022-10-20T22:29:51.710037Z",
     "iopub.status.idle": "2022-10-20T22:34:18.313845Z",
     "shell.execute_reply": "2022-10-20T22:34:18.312255Z"
    },
    "papermill": {
     "duration": 266.992628,
     "end_time": "2022-10-20T22:34:18.315968",
     "exception": false,
     "start_time": "2022-10-20T22:29:51.323340",
     "status": "completed"
    },
    "tags": []
   },
   "outputs": [
    {
     "name": "stdout",
     "output_type": "stream",
     "text": [
      "banner - un-normalized-5\n",
      "-------------------------------------\n"
     ]
    },
    {
     "name": "stderr",
     "output_type": "stream",
     "text": [
      "100%|██████████| 3564/3564 [01:35<00:00, 37.21it/s]\n",
      "100%|██████████| 3564/3564 [00:00<00:00, 18885.03it/s]\n",
      "100%|██████████| 49118/49118 [00:00<00:00, 1942446.01it/s]\n",
      "100%|██████████| 49118/49118 [00:00<00:00, 2073762.12it/s]\n"
     ]
    },
    {
     "name": "stdout",
     "output_type": "stream",
     "text": [
      "              precision    recall  f1-score   support\n",
      "\n",
      "           1     0.4000    0.0112    0.0218       357\n",
      "           2     0.4461    0.1067    0.1722       853\n",
      "           3     0.8312    0.9832    0.9008     39499\n",
      "           4     0.0000    0.0000    0.0000        57\n",
      "           5     0.5680    0.1570    0.2460      1223\n",
      "           6     0.3111    0.0244    0.0453       573\n",
      "           7     0.3534    0.0911    0.1448       516\n",
      "           8     0.6259    0.1352    0.2223      2005\n",
      "           9     0.5567    0.1703    0.2608      4035\n",
      "\n",
      "    accuracy                         0.8172     49118\n",
      "   macro avg     0.4547    0.1866    0.2238     49118\n",
      "weighted avg     0.7719    0.8172    0.7662     49118\n",
      "\n",
      "scratch - un-normalized-5\n",
      "-------------------------------------\n"
     ]
    },
    {
     "name": "stderr",
     "output_type": "stream",
     "text": [
      "100%|██████████| 3564/3564 [01:38<00:00, 36.22it/s]\n",
      "100%|██████████| 3564/3564 [00:00<00:00, 18968.47it/s]\n",
      "100%|██████████| 49118/49118 [00:00<00:00, 1981454.85it/s]\n",
      "100%|██████████| 49118/49118 [00:00<00:00, 1938862.97it/s]\n"
     ]
    },
    {
     "name": "stdout",
     "output_type": "stream",
     "text": [
      "              precision    recall  f1-score   support\n",
      "\n",
      "           1     0.5000    0.0168    0.0325       357\n",
      "           2     0.6321    0.0785    0.1397       853\n",
      "           3     0.8527    0.9598    0.9031     39499\n",
      "           4     0.0000    0.0000    0.0000        57\n",
      "           5     0.4130    0.3532    0.3808      1223\n",
      "           6     0.4138    0.0209    0.0399       573\n",
      "           7     0.6393    0.0756    0.1352       516\n",
      "           8     0.6339    0.1287    0.2139      2005\n",
      "           9     0.4449    0.3304    0.3792      4035\n",
      "\n",
      "    accuracy                         0.8156     49118\n",
      "   macro avg     0.5033    0.2182    0.2471     49118\n",
      "weighted avg     0.7846    0.8156    0.7802     49118\n",
      "\n",
      "scratch - normalized-5\n",
      "-------------------------------------\n"
     ]
    },
    {
     "name": "stderr",
     "output_type": "stream",
     "text": [
      "100%|██████████| 3564/3564 [01:11<00:00, 49.89it/s]\n",
      "100%|██████████| 3564/3564 [00:00<00:00, 19229.46it/s]\n",
      "100%|██████████| 49118/49118 [00:00<00:00, 1967790.17it/s]\n",
      "100%|██████████| 49118/49118 [00:00<00:00, 1947532.44it/s]\n"
     ]
    },
    {
     "name": "stdout",
     "output_type": "stream",
     "text": [
      "              precision    recall  f1-score   support\n",
      "\n",
      "           1     0.6182    0.5714    0.5939       357\n",
      "           2     0.5848    0.3962    0.4724       853\n",
      "           3     0.9432    0.9425    0.9428     39499\n",
      "           4     0.6667    0.1404    0.2319        57\n",
      "           5     0.7103    0.7637    0.7360      1223\n",
      "           6     0.4819    0.3717    0.4197       573\n",
      "           7     0.5364    0.5000    0.5176       516\n",
      "           8     0.7524    0.6683    0.7079      2005\n",
      "           9     0.6946    0.8112    0.7484      4035\n",
      "\n",
      "    accuracy                         0.8916     49118\n",
      "   macro avg     0.6654    0.5739    0.5967     49118\n",
      "weighted avg     0.8906    0.8916    0.8900     49118\n",
      "\n"
     ]
    }
   ],
   "source": [
    "print(\"banner - un-normalized-5\")\n",
    "print(\"-------------------------------------\")\n",
    "get_stat(model_b,df5)\n",
    "print(\"scratch - un-normalized-5\")\n",
    "print(\"-------------------------------------\")\n",
    "get_stat(model_s,df5)\n",
    "print(\"scratch - normalized-5\")\n",
    "print(\"-------------------------------------\")\n",
    "get_stat(model_s,df5n)"
   ]
  }
 ],
 "metadata": {
  "kernelspec": {
   "display_name": "Python 3",
   "language": "python",
   "name": "python3"
  },
  "language_info": {
   "codemirror_mode": {
    "name": "ipython",
    "version": 3
   },
   "file_extension": ".py",
   "mimetype": "text/x-python",
   "name": "python",
   "nbconvert_exporter": "python",
   "pygments_lexer": "ipython3",
   "version": "3.7.12"
  },
  "papermill": {
   "default_parameters": {},
   "duration": 1247.027827,
   "end_time": "2022-10-20T22:34:21.242439",
   "environment_variables": {},
   "exception": null,
   "input_path": "__notebook__.ipynb",
   "output_path": "__notebook__.ipynb",
   "parameters": {},
   "start_time": "2022-10-20T22:13:34.214612",
   "version": "2.3.4"
  }
 },
 "nbformat": 4,
 "nbformat_minor": 5
}
